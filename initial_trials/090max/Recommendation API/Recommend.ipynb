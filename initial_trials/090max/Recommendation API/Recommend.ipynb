{
 "cells": [
  {
   "cell_type": "code",
   "execution_count": 108,
   "metadata": {},
   "outputs": [],
   "source": [
    "import pandas as pd\n",
    "import numpy as np\n",
    "import time\n",
    "from sklearn.model_selection import train_test_split\n",
    "import sys\n",
    "import turicreate as tc\n",
    "sys.path.append(\"..\")\n",
    "import json"
   ]
  },
  {
   "cell_type": "code",
   "execution_count": 109,
   "metadata": {},
   "outputs": [
    {
     "data": {
      "text/html": [
       "<div>\n",
       "<style scoped>\n",
       "    .dataframe tbody tr th:only-of-type {\n",
       "        vertical-align: middle;\n",
       "    }\n",
       "\n",
       "    .dataframe tbody tr th {\n",
       "        vertical-align: top;\n",
       "    }\n",
       "\n",
       "    .dataframe thead th {\n",
       "        text-align: right;\n",
       "    }\n",
       "</style>\n",
       "<table border=\"1\" class=\"dataframe\">\n",
       "  <thead>\n",
       "    <tr style=\"text-align: right;\">\n",
       "      <th></th>\n",
       "      <th>customerId</th>\n",
       "    </tr>\n",
       "  </thead>\n",
       "  <tbody>\n",
       "    <tr>\n",
       "      <td>0</td>\n",
       "      <td>0</td>\n",
       "    </tr>\n",
       "    <tr>\n",
       "      <td>1</td>\n",
       "      <td>1</td>\n",
       "    </tr>\n",
       "    <tr>\n",
       "      <td>2</td>\n",
       "      <td>2</td>\n",
       "    </tr>\n",
       "    <tr>\n",
       "      <td>3</td>\n",
       "      <td>3</td>\n",
       "    </tr>\n",
       "    <tr>\n",
       "      <td>4</td>\n",
       "      <td>4</td>\n",
       "    </tr>\n",
       "  </tbody>\n",
       "</table>\n",
       "</div>"
      ],
      "text/plain": [
       "   customerId\n",
       "0           0\n",
       "1           1\n",
       "2           2\n",
       "3           3\n",
       "4           4"
      ]
     },
     "execution_count": 109,
     "metadata": {},
     "output_type": "execute_result"
    }
   ],
   "source": [
    "customers = pd.read_csv('./data/recommend_1.csv') \n",
    "transactions = pd.read_csv('./data/trx_data.csv')\n",
    "customers.head()"
   ]
  },
  {
   "cell_type": "code",
   "execution_count": 110,
   "metadata": {},
   "outputs": [
    {
     "name": "stdout",
     "output_type": "stream",
     "text": [
      "(8, 2)\n"
     ]
    },
    {
     "data": {
      "text/html": [
       "<div>\n",
       "<style scoped>\n",
       "    .dataframe tbody tr th:only-of-type {\n",
       "        vertical-align: middle;\n",
       "    }\n",
       "\n",
       "    .dataframe tbody tr th {\n",
       "        vertical-align: top;\n",
       "    }\n",
       "\n",
       "    .dataframe thead th {\n",
       "        text-align: right;\n",
       "    }\n",
       "</style>\n",
       "<table border=\"1\" class=\"dataframe\">\n",
       "  <thead>\n",
       "    <tr style=\"text-align: right;\">\n",
       "      <th></th>\n",
       "      <th>customerId</th>\n",
       "      <th>0</th>\n",
       "      <th>1</th>\n",
       "      <th>2</th>\n",
       "    </tr>\n",
       "  </thead>\n",
       "  <tbody>\n",
       "    <tr>\n",
       "      <td>0</td>\n",
       "      <td>0</td>\n",
       "      <td>2</td>\n",
       "      <td>3</td>\n",
       "      <td>4</td>\n",
       "    </tr>\n",
       "    <tr>\n",
       "      <td>1</td>\n",
       "      <td>1</td>\n",
       "      <td>1</td>\n",
       "      <td>3</td>\n",
       "      <td>4</td>\n",
       "    </tr>\n",
       "  </tbody>\n",
       "</table>\n",
       "</div>"
      ],
      "text/plain": [
       "   customerId  0  1  2\n",
       "0           0  2  3  4\n",
       "1           1  1  3  4"
      ]
     },
     "execution_count": 110,
     "metadata": {},
     "output_type": "execute_result"
    }
   ],
   "source": [
    "\n",
    "print(transactions.shape)\n",
    "transactions.head()\n",
    "transactions['products'] = transactions['products'].apply(lambda x: [int(i) for i in x.split(\"|\")])\n",
    "transactions.head(2).set_index('customerId')['products'].apply(pd.Series).reset_index()"
   ]
  },
  {
   "cell_type": "code",
   "execution_count": 111,
   "metadata": {},
   "outputs": [],
   "source": [
    "data = pd.melt(transactions.set_index('customerId')['products'].apply(pd.Series).reset_index(), \n",
    "             id_vars=['customerId'],\n",
    "             value_name='products') \\\n",
    "    .dropna().drop(['variable'], axis=1) \\\n",
    "    .groupby(['customerId', 'products']) \\\n",
    "    .agg({'products': 'count'}) \\\n",
    "    .rename(columns={'products': 'purchase_count'}) \\\n",
    "    .reset_index() \\\n",
    "    .rename(columns={'products': 'productId'})\n",
    "\n",
    "\n",
    "data['productId']=data['productId'].astype(np.int64)\n"
   ]
  },
  {
   "cell_type": "code",
   "execution_count": 112,
   "metadata": {},
   "outputs": [
    {
     "data": {
      "text/html": [
       "<div>\n",
       "<style scoped>\n",
       "    .dataframe tbody tr th:only-of-type {\n",
       "        vertical-align: middle;\n",
       "    }\n",
       "\n",
       "    .dataframe tbody tr th {\n",
       "        vertical-align: top;\n",
       "    }\n",
       "\n",
       "    .dataframe thead th {\n",
       "        text-align: right;\n",
       "    }\n",
       "</style>\n",
       "<table border=\"1\" class=\"dataframe\">\n",
       "  <thead>\n",
       "    <tr style=\"text-align: right;\">\n",
       "      <th></th>\n",
       "      <th>customerId</th>\n",
       "      <th>productId</th>\n",
       "      <th>purchase_count</th>\n",
       "    </tr>\n",
       "  </thead>\n",
       "  <tbody>\n",
       "    <tr>\n",
       "      <td>0</td>\n",
       "      <td>0</td>\n",
       "      <td>2</td>\n",
       "      <td>1</td>\n",
       "    </tr>\n",
       "    <tr>\n",
       "      <td>1</td>\n",
       "      <td>0</td>\n",
       "      <td>3</td>\n",
       "      <td>1</td>\n",
       "    </tr>\n",
       "    <tr>\n",
       "      <td>2</td>\n",
       "      <td>0</td>\n",
       "      <td>4</td>\n",
       "      <td>1</td>\n",
       "    </tr>\n",
       "    <tr>\n",
       "      <td>3</td>\n",
       "      <td>1</td>\n",
       "      <td>1</td>\n",
       "      <td>1</td>\n",
       "    </tr>\n",
       "    <tr>\n",
       "      <td>4</td>\n",
       "      <td>1</td>\n",
       "      <td>3</td>\n",
       "      <td>1</td>\n",
       "    </tr>\n",
       "  </tbody>\n",
       "</table>\n",
       "</div>"
      ],
      "text/plain": [
       "   customerId  productId  purchase_count\n",
       "0           0          2               1\n",
       "1           0          3               1\n",
       "2           0          4               1\n",
       "3           1          1               1\n",
       "4           1          3               1"
      ]
     },
     "execution_count": 112,
     "metadata": {},
     "output_type": "execute_result"
    }
   ],
   "source": [
    "data.head()\n",
    "\n"
   ]
  },
  {
   "cell_type": "code",
   "execution_count": 113,
   "metadata": {},
   "outputs": [],
   "source": [
    "def create_data_dummy(data):\n",
    "    data_dummy = data.copy()\n",
    "    data_dummy['purchase_dummy'] = 1\n",
    "    return data_dummy\n",
    "data_dummy = create_data_dummy(data)"
   ]
  },
  {
   "cell_type": "code",
   "execution_count": 114,
   "metadata": {},
   "outputs": [],
   "source": [
    "df_matrix = pd.pivot_table(data, values='purchase_count', index='customerId', columns='productId')"
   ]
  },
  {
   "cell_type": "code",
   "execution_count": 115,
   "metadata": {},
   "outputs": [
    {
     "data": {
      "text/html": [
       "<div>\n",
       "<style scoped>\n",
       "    .dataframe tbody tr th:only-of-type {\n",
       "        vertical-align: middle;\n",
       "    }\n",
       "\n",
       "    .dataframe tbody tr th {\n",
       "        vertical-align: top;\n",
       "    }\n",
       "\n",
       "    .dataframe thead th {\n",
       "        text-align: right;\n",
       "    }\n",
       "</style>\n",
       "<table border=\"1\" class=\"dataframe\">\n",
       "  <thead>\n",
       "    <tr style=\"text-align: right;\">\n",
       "      <th>productId</th>\n",
       "      <th>1</th>\n",
       "      <th>2</th>\n",
       "      <th>3</th>\n",
       "      <th>4</th>\n",
       "      <th>5</th>\n",
       "      <th>6</th>\n",
       "      <th>7</th>\n",
       "      <th>8</th>\n",
       "    </tr>\n",
       "    <tr>\n",
       "      <th>customerId</th>\n",
       "      <th></th>\n",
       "      <th></th>\n",
       "      <th></th>\n",
       "      <th></th>\n",
       "      <th></th>\n",
       "      <th></th>\n",
       "      <th></th>\n",
       "      <th></th>\n",
       "    </tr>\n",
       "  </thead>\n",
       "  <tbody>\n",
       "    <tr>\n",
       "      <td>0</td>\n",
       "      <td>NaN</td>\n",
       "      <td>1.0</td>\n",
       "      <td>1.0</td>\n",
       "      <td>1.0</td>\n",
       "      <td>NaN</td>\n",
       "      <td>NaN</td>\n",
       "      <td>NaN</td>\n",
       "      <td>NaN</td>\n",
       "    </tr>\n",
       "    <tr>\n",
       "      <td>1</td>\n",
       "      <td>1.0</td>\n",
       "      <td>NaN</td>\n",
       "      <td>1.0</td>\n",
       "      <td>1.0</td>\n",
       "      <td>1.0</td>\n",
       "      <td>NaN</td>\n",
       "      <td>NaN</td>\n",
       "      <td>NaN</td>\n",
       "    </tr>\n",
       "    <tr>\n",
       "      <td>2</td>\n",
       "      <td>NaN</td>\n",
       "      <td>1.0</td>\n",
       "      <td>2.0</td>\n",
       "      <td>NaN</td>\n",
       "      <td>NaN</td>\n",
       "      <td>NaN</td>\n",
       "      <td>NaN</td>\n",
       "      <td>NaN</td>\n",
       "    </tr>\n",
       "    <tr>\n",
       "      <td>3</td>\n",
       "      <td>NaN</td>\n",
       "      <td>1.0</td>\n",
       "      <td>1.0</td>\n",
       "      <td>NaN</td>\n",
       "      <td>NaN</td>\n",
       "      <td>1.0</td>\n",
       "      <td>NaN</td>\n",
       "      <td>1.0</td>\n",
       "    </tr>\n",
       "    <tr>\n",
       "      <td>4</td>\n",
       "      <td>NaN</td>\n",
       "      <td>NaN</td>\n",
       "      <td>NaN</td>\n",
       "      <td>NaN</td>\n",
       "      <td>NaN</td>\n",
       "      <td>NaN</td>\n",
       "      <td>1.0</td>\n",
       "      <td>NaN</td>\n",
       "    </tr>\n",
       "  </tbody>\n",
       "</table>\n",
       "</div>"
      ],
      "text/plain": [
       "productId     1    2    3    4    5    6    7    8\n",
       "customerId                                        \n",
       "0           NaN  1.0  1.0  1.0  NaN  NaN  NaN  NaN\n",
       "1           1.0  NaN  1.0  1.0  1.0  NaN  NaN  NaN\n",
       "2           NaN  1.0  2.0  NaN  NaN  NaN  NaN  NaN\n",
       "3           NaN  1.0  1.0  NaN  NaN  1.0  NaN  1.0\n",
       "4           NaN  NaN  NaN  NaN  NaN  NaN  1.0  NaN"
      ]
     },
     "execution_count": 115,
     "metadata": {},
     "output_type": "execute_result"
    }
   ],
   "source": [
    "df_matrix.head()\n"
   ]
  },
  {
   "cell_type": "code",
   "execution_count": 116,
   "metadata": {},
   "outputs": [],
   "source": [
    "#df_matrix_norm = (df_matrix-df_matrix.min())/(df_matrix.max()-df_matrix.min())\n",
    "df_matrix_norm=df_matrix"
   ]
  },
  {
   "cell_type": "code",
   "execution_count": 117,
   "metadata": {},
   "outputs": [
    {
     "name": "stdout",
     "output_type": "stream",
     "text": [
      "(14, 3)\n"
     ]
    },
    {
     "data": {
      "text/html": [
       "<div>\n",
       "<style scoped>\n",
       "    .dataframe tbody tr th:only-of-type {\n",
       "        vertical-align: middle;\n",
       "    }\n",
       "\n",
       "    .dataframe tbody tr th {\n",
       "        vertical-align: top;\n",
       "    }\n",
       "\n",
       "    .dataframe thead th {\n",
       "        text-align: right;\n",
       "    }\n",
       "</style>\n",
       "<table border=\"1\" class=\"dataframe\">\n",
       "  <thead>\n",
       "    <tr style=\"text-align: right;\">\n",
       "      <th></th>\n",
       "      <th>customerId</th>\n",
       "      <th>productId</th>\n",
       "      <th>scaled_purchase_freq</th>\n",
       "    </tr>\n",
       "  </thead>\n",
       "  <tbody>\n",
       "    <tr>\n",
       "      <td>1</td>\n",
       "      <td>1</td>\n",
       "      <td>1</td>\n",
       "      <td>1.0</td>\n",
       "    </tr>\n",
       "    <tr>\n",
       "      <td>5</td>\n",
       "      <td>0</td>\n",
       "      <td>2</td>\n",
       "      <td>1.0</td>\n",
       "    </tr>\n",
       "    <tr>\n",
       "      <td>7</td>\n",
       "      <td>2</td>\n",
       "      <td>2</td>\n",
       "      <td>1.0</td>\n",
       "    </tr>\n",
       "    <tr>\n",
       "      <td>8</td>\n",
       "      <td>3</td>\n",
       "      <td>2</td>\n",
       "      <td>1.0</td>\n",
       "    </tr>\n",
       "    <tr>\n",
       "      <td>10</td>\n",
       "      <td>0</td>\n",
       "      <td>3</td>\n",
       "      <td>1.0</td>\n",
       "    </tr>\n",
       "  </tbody>\n",
       "</table>\n",
       "</div>"
      ],
      "text/plain": [
       "    customerId productId  scaled_purchase_freq\n",
       "1            1         1                   1.0\n",
       "5            0         2                   1.0\n",
       "7            2         2                   1.0\n",
       "8            3         2                   1.0\n",
       "10           0         3                   1.0"
      ]
     },
     "execution_count": 117,
     "metadata": {},
     "output_type": "execute_result"
    }
   ],
   "source": [
    "# create a table for input to the modeling  \n",
    "d = df_matrix_norm.reset_index() \n",
    "d.index.names = ['scaled_purchase_freq'] \n",
    "data_norm = pd.melt(d, id_vars=['customerId'], value_name='scaled_purchase_freq').dropna()\n",
    "print(data_norm.shape)\n",
    "data_norm.head()"
   ]
  },
  {
   "cell_type": "code",
   "execution_count": 118,
   "metadata": {},
   "outputs": [],
   "source": [
    "def split_data(data):\n",
    "    '''\n",
    "    Splits dataset into training and test set.\n",
    "    \n",
    "    Args:\n",
    "        data (pandas.DataFrame)\n",
    "        \n",
    "    Returns\n",
    "        train_data (tc.SFrame)\n",
    "        test_data (tc.SFrame)\n",
    "    '''\n",
    "    train, test = train_test_split(data, test_size = .2)\n",
    "    train_data = tc.SFrame(train)\n",
    "    test_data = tc.SFrame(test)\n",
    "    return train_data, test_data\n",
    "\n"
   ]
  },
  {
   "cell_type": "code",
   "execution_count": 119,
   "metadata": {},
   "outputs": [],
   "source": [
    "train_data, test_data = split_data(data)\n",
    "train_data_dummy, test_data_dummy = split_data(data_dummy)\n",
    "train_data_norm, test_data_norm = split_data(data_norm)"
   ]
  },
  {
   "cell_type": "code",
   "execution_count": 120,
   "metadata": {},
   "outputs": [
    {
     "data": {
      "text/html": [
       "<div style=\"max-height:1000px;max-width:1500px;overflow:auto;\"><table frame=\"box\" rules=\"cols\">\n",
       "    <tr>\n",
       "        <th style=\"padding-left: 1em; padding-right: 1em; text-align: center\">customerId</th>\n",
       "        <th style=\"padding-left: 1em; padding-right: 1em; text-align: center\">productId</th>\n",
       "        <th style=\"padding-left: 1em; padding-right: 1em; text-align: center\">purchase_count</th>\n",
       "    </tr>\n",
       "    <tr>\n",
       "        <td style=\"padding-left: 1em; padding-right: 1em; text-align: center; vertical-align: top\">1</td>\n",
       "        <td style=\"padding-left: 1em; padding-right: 1em; text-align: center; vertical-align: top\">3</td>\n",
       "        <td style=\"padding-left: 1em; padding-right: 1em; text-align: center; vertical-align: top\">1</td>\n",
       "    </tr>\n",
       "    <tr>\n",
       "        <td style=\"padding-left: 1em; padding-right: 1em; text-align: center; vertical-align: top\">3</td>\n",
       "        <td style=\"padding-left: 1em; padding-right: 1em; text-align: center; vertical-align: top\">6</td>\n",
       "        <td style=\"padding-left: 1em; padding-right: 1em; text-align: center; vertical-align: top\">1</td>\n",
       "    </tr>\n",
       "    <tr>\n",
       "        <td style=\"padding-left: 1em; padding-right: 1em; text-align: center; vertical-align: top\">4</td>\n",
       "        <td style=\"padding-left: 1em; padding-right: 1em; text-align: center; vertical-align: top\">7</td>\n",
       "        <td style=\"padding-left: 1em; padding-right: 1em; text-align: center; vertical-align: top\">1</td>\n",
       "    </tr>\n",
       "    <tr>\n",
       "        <td style=\"padding-left: 1em; padding-right: 1em; text-align: center; vertical-align: top\">3</td>\n",
       "        <td style=\"padding-left: 1em; padding-right: 1em; text-align: center; vertical-align: top\">2</td>\n",
       "        <td style=\"padding-left: 1em; padding-right: 1em; text-align: center; vertical-align: top\">1</td>\n",
       "    </tr>\n",
       "    <tr>\n",
       "        <td style=\"padding-left: 1em; padding-right: 1em; text-align: center; vertical-align: top\">0</td>\n",
       "        <td style=\"padding-left: 1em; padding-right: 1em; text-align: center; vertical-align: top\">2</td>\n",
       "        <td style=\"padding-left: 1em; padding-right: 1em; text-align: center; vertical-align: top\">1</td>\n",
       "    </tr>\n",
       "    <tr>\n",
       "        <td style=\"padding-left: 1em; padding-right: 1em; text-align: center; vertical-align: top\">1</td>\n",
       "        <td style=\"padding-left: 1em; padding-right: 1em; text-align: center; vertical-align: top\">1</td>\n",
       "        <td style=\"padding-left: 1em; padding-right: 1em; text-align: center; vertical-align: top\">1</td>\n",
       "    </tr>\n",
       "    <tr>\n",
       "        <td style=\"padding-left: 1em; padding-right: 1em; text-align: center; vertical-align: top\">3</td>\n",
       "        <td style=\"padding-left: 1em; padding-right: 1em; text-align: center; vertical-align: top\">3</td>\n",
       "        <td style=\"padding-left: 1em; padding-right: 1em; text-align: center; vertical-align: top\">1</td>\n",
       "    </tr>\n",
       "    <tr>\n",
       "        <td style=\"padding-left: 1em; padding-right: 1em; text-align: center; vertical-align: top\">2</td>\n",
       "        <td style=\"padding-left: 1em; padding-right: 1em; text-align: center; vertical-align: top\">3</td>\n",
       "        <td style=\"padding-left: 1em; padding-right: 1em; text-align: center; vertical-align: top\">2</td>\n",
       "    </tr>\n",
       "    <tr>\n",
       "        <td style=\"padding-left: 1em; padding-right: 1em; text-align: center; vertical-align: top\">1</td>\n",
       "        <td style=\"padding-left: 1em; padding-right: 1em; text-align: center; vertical-align: top\">4</td>\n",
       "        <td style=\"padding-left: 1em; padding-right: 1em; text-align: center; vertical-align: top\">1</td>\n",
       "    </tr>\n",
       "    <tr>\n",
       "        <td style=\"padding-left: 1em; padding-right: 1em; text-align: center; vertical-align: top\">0</td>\n",
       "        <td style=\"padding-left: 1em; padding-right: 1em; text-align: center; vertical-align: top\">3</td>\n",
       "        <td style=\"padding-left: 1em; padding-right: 1em; text-align: center; vertical-align: top\">1</td>\n",
       "    </tr>\n",
       "</table>\n",
       "[11 rows x 3 columns]<br/>Note: Only the head of the SFrame is printed.<br/>You can use print_rows(num_rows=m, num_columns=n) to print more rows and columns.\n",
       "</div>"
      ],
      "text/plain": [
       "Columns:\n",
       "\tcustomerId\tint\n",
       "\tproductId\tint\n",
       "\tpurchase_count\tint\n",
       "\n",
       "Rows: 11\n",
       "\n",
       "Data:\n",
       "+------------+-----------+----------------+\n",
       "| customerId | productId | purchase_count |\n",
       "+------------+-----------+----------------+\n",
       "|     1      |     3     |       1        |\n",
       "|     3      |     6     |       1        |\n",
       "|     4      |     7     |       1        |\n",
       "|     3      |     2     |       1        |\n",
       "|     0      |     2     |       1        |\n",
       "|     1      |     1     |       1        |\n",
       "|     3      |     3     |       1        |\n",
       "|     2      |     3     |       2        |\n",
       "|     1      |     4     |       1        |\n",
       "|     0      |     3     |       1        |\n",
       "+------------+-----------+----------------+\n",
       "[11 rows x 3 columns]\n",
       "Note: Only the head of the SFrame is printed.\n",
       "You can use print_rows(num_rows=m, num_columns=n) to print more rows and columns."
      ]
     },
     "execution_count": 120,
     "metadata": {},
     "output_type": "execute_result"
    }
   ],
   "source": [
    "train_data"
   ]
  },
  {
   "cell_type": "code",
   "execution_count": 121,
   "metadata": {},
   "outputs": [
    {
     "data": {
      "text/html": [
       "<div style=\"max-height:1000px;max-width:1500px;overflow:auto;\"><table frame=\"box\" rules=\"cols\">\n",
       "    <tr>\n",
       "        <th style=\"padding-left: 1em; padding-right: 1em; text-align: center\">customerId</th>\n",
       "        <th style=\"padding-left: 1em; padding-right: 1em; text-align: center\">productId</th>\n",
       "        <th style=\"padding-left: 1em; padding-right: 1em; text-align: center\">purchase_count</th>\n",
       "    </tr>\n",
       "    <tr>\n",
       "        <td style=\"padding-left: 1em; padding-right: 1em; text-align: center; vertical-align: top\">1</td>\n",
       "        <td style=\"padding-left: 1em; padding-right: 1em; text-align: center; vertical-align: top\">3</td>\n",
       "        <td style=\"padding-left: 1em; padding-right: 1em; text-align: center; vertical-align: top\">1</td>\n",
       "    </tr>\n",
       "    <tr>\n",
       "        <td style=\"padding-left: 1em; padding-right: 1em; text-align: center; vertical-align: top\">3</td>\n",
       "        <td style=\"padding-left: 1em; padding-right: 1em; text-align: center; vertical-align: top\">6</td>\n",
       "        <td style=\"padding-left: 1em; padding-right: 1em; text-align: center; vertical-align: top\">1</td>\n",
       "    </tr>\n",
       "    <tr>\n",
       "        <td style=\"padding-left: 1em; padding-right: 1em; text-align: center; vertical-align: top\">4</td>\n",
       "        <td style=\"padding-left: 1em; padding-right: 1em; text-align: center; vertical-align: top\">7</td>\n",
       "        <td style=\"padding-left: 1em; padding-right: 1em; text-align: center; vertical-align: top\">1</td>\n",
       "    </tr>\n",
       "    <tr>\n",
       "        <td style=\"padding-left: 1em; padding-right: 1em; text-align: center; vertical-align: top\">3</td>\n",
       "        <td style=\"padding-left: 1em; padding-right: 1em; text-align: center; vertical-align: top\">2</td>\n",
       "        <td style=\"padding-left: 1em; padding-right: 1em; text-align: center; vertical-align: top\">1</td>\n",
       "    </tr>\n",
       "    <tr>\n",
       "        <td style=\"padding-left: 1em; padding-right: 1em; text-align: center; vertical-align: top\">0</td>\n",
       "        <td style=\"padding-left: 1em; padding-right: 1em; text-align: center; vertical-align: top\">2</td>\n",
       "        <td style=\"padding-left: 1em; padding-right: 1em; text-align: center; vertical-align: top\">1</td>\n",
       "    </tr>\n",
       "    <tr>\n",
       "        <td style=\"padding-left: 1em; padding-right: 1em; text-align: center; vertical-align: top\">1</td>\n",
       "        <td style=\"padding-left: 1em; padding-right: 1em; text-align: center; vertical-align: top\">1</td>\n",
       "        <td style=\"padding-left: 1em; padding-right: 1em; text-align: center; vertical-align: top\">1</td>\n",
       "    </tr>\n",
       "    <tr>\n",
       "        <td style=\"padding-left: 1em; padding-right: 1em; text-align: center; vertical-align: top\">3</td>\n",
       "        <td style=\"padding-left: 1em; padding-right: 1em; text-align: center; vertical-align: top\">3</td>\n",
       "        <td style=\"padding-left: 1em; padding-right: 1em; text-align: center; vertical-align: top\">1</td>\n",
       "    </tr>\n",
       "    <tr>\n",
       "        <td style=\"padding-left: 1em; padding-right: 1em; text-align: center; vertical-align: top\">2</td>\n",
       "        <td style=\"padding-left: 1em; padding-right: 1em; text-align: center; vertical-align: top\">3</td>\n",
       "        <td style=\"padding-left: 1em; padding-right: 1em; text-align: center; vertical-align: top\">2</td>\n",
       "    </tr>\n",
       "    <tr>\n",
       "        <td style=\"padding-left: 1em; padding-right: 1em; text-align: center; vertical-align: top\">1</td>\n",
       "        <td style=\"padding-left: 1em; padding-right: 1em; text-align: center; vertical-align: top\">4</td>\n",
       "        <td style=\"padding-left: 1em; padding-right: 1em; text-align: center; vertical-align: top\">1</td>\n",
       "    </tr>\n",
       "    <tr>\n",
       "        <td style=\"padding-left: 1em; padding-right: 1em; text-align: center; vertical-align: top\">0</td>\n",
       "        <td style=\"padding-left: 1em; padding-right: 1em; text-align: center; vertical-align: top\">3</td>\n",
       "        <td style=\"padding-left: 1em; padding-right: 1em; text-align: center; vertical-align: top\">1</td>\n",
       "    </tr>\n",
       "</table>\n",
       "[11 rows x 3 columns]<br/>Note: Only the head of the SFrame is printed.<br/>You can use print_rows(num_rows=m, num_columns=n) to print more rows and columns.\n",
       "</div>"
      ],
      "text/plain": [
       "Columns:\n",
       "\tcustomerId\tint\n",
       "\tproductId\tint\n",
       "\tpurchase_count\tint\n",
       "\n",
       "Rows: 11\n",
       "\n",
       "Data:\n",
       "+------------+-----------+----------------+\n",
       "| customerId | productId | purchase_count |\n",
       "+------------+-----------+----------------+\n",
       "|     1      |     3     |       1        |\n",
       "|     3      |     6     |       1        |\n",
       "|     4      |     7     |       1        |\n",
       "|     3      |     2     |       1        |\n",
       "|     0      |     2     |       1        |\n",
       "|     1      |     1     |       1        |\n",
       "|     3      |     3     |       1        |\n",
       "|     2      |     3     |       2        |\n",
       "|     1      |     4     |       1        |\n",
       "|     0      |     3     |       1        |\n",
       "+------------+-----------+----------------+\n",
       "[11 rows x 3 columns]\n",
       "Note: Only the head of the SFrame is printed.\n",
       "You can use print_rows(num_rows=m, num_columns=n) to print more rows and columns."
      ]
     },
     "execution_count": 121,
     "metadata": {},
     "output_type": "execute_result"
    }
   ],
   "source": [
    "train_data"
   ]
  },
  {
   "cell_type": "code",
   "execution_count": 122,
   "metadata": {},
   "outputs": [],
   "source": [
    "# constant variables to define field names include:\n",
    "user_id = 'customerId'\n",
    "item_id = 'productId'\n",
    "users_to_recommend = list(customers[user_id])\n",
    "n_rec = 10 # number of items to recommend\n",
    "n_display = 30 # to display the first few rows in an output dataset"
   ]
  },
  {
   "cell_type": "code",
   "execution_count": 123,
   "metadata": {},
   "outputs": [],
   "source": [
    "def model(train_data,name,user_id,item_id,target,users_to_recommend,n_rec,n_display):\n",
    "    if name=='popularity':\n",
    "        model=tc.popularity_recommender.create(train_data,user_id=user_id,item_id=item_id,target=target)\n",
    "    elif name=='cosine':\n",
    "        model = tc.item_similarity_recommender.create(train_data, user_id=user_id, item_id=item_id, target=target,similarity_type='cosine')\n",
    "    elif name == 'pearson':\n",
    "        model = tc.item_similarity_recommender.create(train_data,user_id=user_id,  item_id=item_id,  target=target,similarity_type='pearson')\n",
    "    recom = model.recommend(users=users_to_recommend, k=n_rec)\n",
    "    recom.print_rows(n_display)\n",
    "    return model\n",
    "        "
   ]
  },
  {
   "cell_type": "code",
   "execution_count": 124,
   "metadata": {},
   "outputs": [
    {
     "data": {
      "text/html": [
       "<pre>Preparing data set.</pre>"
      ],
      "text/plain": [
       "Preparing data set."
      ]
     },
     "metadata": {},
     "output_type": "display_data"
    },
    {
     "data": {
      "text/html": [
       "<pre>    Data has 11 observations with 5 users and 6 items.</pre>"
      ],
      "text/plain": [
       "    Data has 11 observations with 5 users and 6 items."
      ]
     },
     "metadata": {},
     "output_type": "display_data"
    },
    {
     "data": {
      "text/html": [
       "<pre>    Data prepared in: 0.008851s</pre>"
      ],
      "text/plain": [
       "    Data prepared in: 0.008851s"
      ]
     },
     "metadata": {},
     "output_type": "display_data"
    },
    {
     "data": {
      "text/html": [
       "<pre>11 observations to process; with 6 unique items.</pre>"
      ],
      "text/plain": [
       "11 observations to process; with 6 unique items."
      ]
     },
     "metadata": {},
     "output_type": "display_data"
    },
    {
     "name": "stdout",
     "output_type": "stream",
     "text": [
      "+------------+-----------+-------+------+\n",
      "| customerId | productId | score | rank |\n",
      "+------------+-----------+-------+------+\n",
      "|     0      |     6     |  1.0  |  1   |\n",
      "|     0      |     7     |  1.0  |  2   |\n",
      "|     0      |     1     |  1.0  |  3   |\n",
      "|     0      |     4     |  1.0  |  4   |\n",
      "|     1      |     6     |  1.0  |  1   |\n",
      "|     1      |     7     |  1.0  |  2   |\n",
      "|     1      |     2     |  1.0  |  3   |\n",
      "|     2      |     6     |  1.0  |  1   |\n",
      "|     2      |     7     |  1.0  |  2   |\n",
      "|     2      |     1     |  1.0  |  3   |\n",
      "|     2      |     4     |  1.0  |  4   |\n",
      "|     3      |     7     |  1.0  |  1   |\n",
      "|     3      |     1     |  1.0  |  2   |\n",
      "|     3      |     4     |  1.0  |  3   |\n",
      "|     4      |     3     |  1.25 |  1   |\n",
      "|     4      |     6     |  1.0  |  2   |\n",
      "|     4      |     2     |  1.0  |  3   |\n",
      "|     4      |     1     |  1.0  |  4   |\n",
      "|     4      |     4     |  1.0  |  5   |\n",
      "+------------+-----------+-------+------+\n",
      "[19 rows x 4 columns]\n",
      "\n"
     ]
    }
   ],
   "source": [
    "name = 'popularity'\n",
    "target = 'purchase_count'\n",
    "popularity = model(train_data, name, user_id, item_id, target, users_to_recommend, n_rec, n_display)"
   ]
  },
  {
   "cell_type": "code",
   "execution_count": 125,
   "metadata": {},
   "outputs": [
    {
     "data": {
      "text/html": [
       "<pre>Warning: Ignoring columns purchase_count;</pre>"
      ],
      "text/plain": [
       "Warning: Ignoring columns purchase_count;"
      ]
     },
     "metadata": {},
     "output_type": "display_data"
    },
    {
     "data": {
      "text/html": [
       "<pre>    To use these columns in scoring predictions, use a model that allows the use of additional features.</pre>"
      ],
      "text/plain": [
       "    To use these columns in scoring predictions, use a model that allows the use of additional features."
      ]
     },
     "metadata": {},
     "output_type": "display_data"
    },
    {
     "data": {
      "text/html": [
       "<pre>Preparing data set.</pre>"
      ],
      "text/plain": [
       "Preparing data set."
      ]
     },
     "metadata": {},
     "output_type": "display_data"
    },
    {
     "data": {
      "text/html": [
       "<pre>    Data has 11 observations with 4 users and 8 items.</pre>"
      ],
      "text/plain": [
       "    Data has 11 observations with 4 users and 8 items."
      ]
     },
     "metadata": {},
     "output_type": "display_data"
    },
    {
     "data": {
      "text/html": [
       "<pre>    Data prepared in: 0.005623s</pre>"
      ],
      "text/plain": [
       "    Data prepared in: 0.005623s"
      ]
     },
     "metadata": {},
     "output_type": "display_data"
    },
    {
     "data": {
      "text/html": [
       "<pre>11 observations to process; with 8 unique items.</pre>"
      ],
      "text/plain": [
       "11 observations to process; with 8 unique items."
      ]
     },
     "metadata": {},
     "output_type": "display_data"
    },
    {
     "name": "stdout",
     "output_type": "stream",
     "text": [
      "+------------+-----------+-------+------+\n",
      "| customerId | productId | score | rank |\n",
      "+------------+-----------+-------+------+\n",
      "|     0      |     5     |  1.0  |  1   |\n",
      "|     0      |     6     |  1.0  |  2   |\n",
      "|     0      |     7     |  1.0  |  3   |\n",
      "|     0      |     8     |  1.0  |  4   |\n",
      "|     0      |     1     |  1.0  |  5   |\n",
      "|     1      |     2     |  1.0  |  1   |\n",
      "|     1      |     3     |  1.0  |  2   |\n",
      "|     1      |     6     |  1.0  |  3   |\n",
      "|     1      |     7     |  1.0  |  4   |\n",
      "|     1      |     8     |  1.0  |  5   |\n",
      "|     2      |     5     |  1.0  |  1   |\n",
      "|     2      |     4     |  1.0  |  2   |\n",
      "|     2      |     2     |  1.0  |  3   |\n",
      "|     2      |     3     |  1.0  |  4   |\n",
      "|     2      |     6     |  1.0  |  5   |\n",
      "|     2      |     7     |  1.0  |  6   |\n",
      "|     2      |     8     |  1.0  |  7   |\n",
      "|     2      |     1     |  1.0  |  8   |\n",
      "|     3      |     5     |  1.0  |  1   |\n",
      "|     3      |     4     |  1.0  |  2   |\n",
      "|     3      |     7     |  1.0  |  3   |\n",
      "|     3      |     1     |  1.0  |  4   |\n",
      "|     4      |     5     |  1.0  |  1   |\n",
      "|     4      |     4     |  1.0  |  2   |\n",
      "|     4      |     2     |  1.0  |  3   |\n",
      "|     4      |     3     |  1.0  |  4   |\n",
      "|     4      |     6     |  1.0  |  5   |\n",
      "|     4      |     8     |  1.0  |  6   |\n",
      "|     4      |     1     |  1.0  |  7   |\n",
      "+------------+-----------+-------+------+\n",
      "[29 rows x 4 columns]\n",
      "\n"
     ]
    }
   ],
   "source": [
    "name = 'popularity'\n",
    "target = 'purchase_dummy'\n",
    "pop_dummy = model(train_data_dummy, name, user_id, item_id, target, users_to_recommend, n_rec, n_display)"
   ]
  },
  {
   "cell_type": "code",
   "execution_count": 126,
   "metadata": {},
   "outputs": [
    {
     "data": {
      "text/html": [
       "<pre>Preparing data set.</pre>"
      ],
      "text/plain": [
       "Preparing data set."
      ]
     },
     "metadata": {},
     "output_type": "display_data"
    },
    {
     "data": {
      "text/html": [
       "<pre>    Data has 11 observations with 5 users and 7 items.</pre>"
      ],
      "text/plain": [
       "    Data has 11 observations with 5 users and 7 items."
      ]
     },
     "metadata": {},
     "output_type": "display_data"
    },
    {
     "data": {
      "text/html": [
       "<pre>    Data prepared in: 0.002805s</pre>"
      ],
      "text/plain": [
       "    Data prepared in: 0.002805s"
      ]
     },
     "metadata": {},
     "output_type": "display_data"
    },
    {
     "data": {
      "text/html": [
       "<pre>11 observations to process; with 7 unique items.</pre>"
      ],
      "text/plain": [
       "11 observations to process; with 7 unique items."
      ]
     },
     "metadata": {},
     "output_type": "display_data"
    },
    {
     "name": "stdout",
     "output_type": "stream",
     "text": [
      "+------------+-----------+-------+------+\n",
      "| customerId | productId | score | rank |\n",
      "+------------+-----------+-------+------+\n",
      "|     0      |     3     |  1.5  |  1   |\n",
      "|     0      |     6     |  1.0  |  2   |\n",
      "|     0      |     7     |  1.0  |  3   |\n",
      "|     0      |     8     |  1.0  |  4   |\n",
      "|     0      |     1     |  1.0  |  5   |\n",
      "|     1      |     2     |  1.0  |  1   |\n",
      "|     1      |     6     |  1.0  |  2   |\n",
      "|     1      |     7     |  1.0  |  3   |\n",
      "|     1      |     8     |  1.0  |  4   |\n",
      "|     2      |     4     |  1.0  |  1   |\n",
      "|     2      |     6     |  1.0  |  2   |\n",
      "|     2      |     7     |  1.0  |  3   |\n",
      "|     2      |     8     |  1.0  |  4   |\n",
      "|     2      |     1     |  1.0  |  5   |\n",
      "|     3      |     3     |  1.5  |  1   |\n",
      "|     3      |     4     |  1.0  |  2   |\n",
      "|     3      |     7     |  1.0  |  3   |\n",
      "|     3      |     1     |  1.0  |  4   |\n",
      "|     4      |     3     |  1.5  |  1   |\n",
      "|     4      |     4     |  1.0  |  2   |\n",
      "|     4      |     2     |  1.0  |  3   |\n",
      "|     4      |     6     |  1.0  |  4   |\n",
      "|     4      |     8     |  1.0  |  5   |\n",
      "|     4      |     1     |  1.0  |  6   |\n",
      "+------------+-----------+-------+------+\n",
      "[24 rows x 4 columns]\n",
      "\n"
     ]
    }
   ],
   "source": [
    "name = 'popularity'\n",
    "target = 'scaled_purchase_freq'\n",
    "pop_norm = model(train_data_norm, name, user_id, item_id, target, users_to_recommend, n_rec, n_display)"
   ]
  },
  {
   "cell_type": "code",
   "execution_count": 127,
   "metadata": {},
   "outputs": [
    {
     "data": {
      "text/html": [
       "<pre>Preparing data set.</pre>"
      ],
      "text/plain": [
       "Preparing data set."
      ]
     },
     "metadata": {},
     "output_type": "display_data"
    },
    {
     "data": {
      "text/html": [
       "<pre>    Data has 11 observations with 5 users and 6 items.</pre>"
      ],
      "text/plain": [
       "    Data has 11 observations with 5 users and 6 items."
      ]
     },
     "metadata": {},
     "output_type": "display_data"
    },
    {
     "data": {
      "text/html": [
       "<pre>    Data prepared in: 0.003333s</pre>"
      ],
      "text/plain": [
       "    Data prepared in: 0.003333s"
      ]
     },
     "metadata": {},
     "output_type": "display_data"
    },
    {
     "data": {
      "text/html": [
       "<pre>Training model from provided data.</pre>"
      ],
      "text/plain": [
       "Training model from provided data."
      ]
     },
     "metadata": {},
     "output_type": "display_data"
    },
    {
     "data": {
      "text/html": [
       "<pre>Gathering per-item and per-user statistics.</pre>"
      ],
      "text/plain": [
       "Gathering per-item and per-user statistics."
      ]
     },
     "metadata": {},
     "output_type": "display_data"
    },
    {
     "data": {
      "text/html": [
       "<pre>+--------------------------------+------------+</pre>"
      ],
      "text/plain": [
       "+--------------------------------+------------+"
      ]
     },
     "metadata": {},
     "output_type": "display_data"
    },
    {
     "data": {
      "text/html": [
       "<pre>| Elapsed Time (Item Statistics) | % Complete |</pre>"
      ],
      "text/plain": [
       "| Elapsed Time (Item Statistics) | % Complete |"
      ]
     },
     "metadata": {},
     "output_type": "display_data"
    },
    {
     "data": {
      "text/html": [
       "<pre>+--------------------------------+------------+</pre>"
      ],
      "text/plain": [
       "+--------------------------------+------------+"
      ]
     },
     "metadata": {},
     "output_type": "display_data"
    },
    {
     "data": {
      "text/html": [
       "<pre>| 7.916ms                        | 100        |</pre>"
      ],
      "text/plain": [
       "| 7.916ms                        | 100        |"
      ]
     },
     "metadata": {},
     "output_type": "display_data"
    },
    {
     "data": {
      "text/html": [
       "<pre>+--------------------------------+------------+</pre>"
      ],
      "text/plain": [
       "+--------------------------------+------------+"
      ]
     },
     "metadata": {},
     "output_type": "display_data"
    },
    {
     "data": {
      "text/html": [
       "<pre>Setting up lookup tables.</pre>"
      ],
      "text/plain": [
       "Setting up lookup tables."
      ]
     },
     "metadata": {},
     "output_type": "display_data"
    },
    {
     "data": {
      "text/html": [
       "<pre>Processing data in one pass using dense lookup tables.</pre>"
      ],
      "text/plain": [
       "Processing data in one pass using dense lookup tables."
      ]
     },
     "metadata": {},
     "output_type": "display_data"
    },
    {
     "data": {
      "text/html": [
       "<pre>+-------------------------------------+------------------+-----------------+</pre>"
      ],
      "text/plain": [
       "+-------------------------------------+------------------+-----------------+"
      ]
     },
     "metadata": {},
     "output_type": "display_data"
    },
    {
     "data": {
      "text/html": [
       "<pre>| Elapsed Time (Constructing Lookups) | Total % Complete | Items Processed |</pre>"
      ],
      "text/plain": [
       "| Elapsed Time (Constructing Lookups) | Total % Complete | Items Processed |"
      ]
     },
     "metadata": {},
     "output_type": "display_data"
    },
    {
     "data": {
      "text/html": [
       "<pre>+-------------------------------------+------------------+-----------------+</pre>"
      ],
      "text/plain": [
       "+-------------------------------------+------------------+-----------------+"
      ]
     },
     "metadata": {},
     "output_type": "display_data"
    },
    {
     "data": {
      "text/html": [
       "<pre>| 8.254ms                             | 33.25            | 2               |</pre>"
      ],
      "text/plain": [
       "| 8.254ms                             | 33.25            | 2               |"
      ]
     },
     "metadata": {},
     "output_type": "display_data"
    },
    {
     "data": {
      "text/html": [
       "<pre>| 23.964ms                            | 100              | 6               |</pre>"
      ],
      "text/plain": [
       "| 23.964ms                            | 100              | 6               |"
      ]
     },
     "metadata": {},
     "output_type": "display_data"
    },
    {
     "data": {
      "text/html": [
       "<pre>+-------------------------------------+------------------+-----------------+</pre>"
      ],
      "text/plain": [
       "+-------------------------------------+------------------+-----------------+"
      ]
     },
     "metadata": {},
     "output_type": "display_data"
    },
    {
     "data": {
      "text/html": [
       "<pre>Finalizing lookup tables.</pre>"
      ],
      "text/plain": [
       "Finalizing lookup tables."
      ]
     },
     "metadata": {},
     "output_type": "display_data"
    },
    {
     "data": {
      "text/html": [
       "<pre>Generating candidate set for working with new users.</pre>"
      ],
      "text/plain": [
       "Generating candidate set for working with new users."
      ]
     },
     "metadata": {},
     "output_type": "display_data"
    },
    {
     "data": {
      "text/html": [
       "<pre>Finished training in 0.024694s</pre>"
      ],
      "text/plain": [
       "Finished training in 0.024694s"
      ]
     },
     "metadata": {},
     "output_type": "display_data"
    },
    {
     "name": "stdout",
     "output_type": "stream",
     "text": [
      "+------------+-----------+----------------------+------+\n",
      "| customerId | productId |        score         | rank |\n",
      "+------------+-----------+----------------------+------+\n",
      "|     0      |     6     | 0.47765737771987915  |  1   |\n",
      "|     0      |     1     | 0.18898224830627441  |  2   |\n",
      "|     0      |     4     | 0.18898224830627441  |  3   |\n",
      "|     0      |     7     |         0.0          |  4   |\n",
      "|     1      |     2     |  0.2909571925799052  |  1   |\n",
      "|     1      |     6     | 0.12598816553751627  |  2   |\n",
      "|     1      |     7     |         0.0          |  3   |\n",
      "|     2      |     6     |  0.6666396260261536  |  1   |\n",
      "|     2      |     1     | 0.37796449661254883  |  2   |\n",
      "|     2      |     4     | 0.37796449661254883  |  3   |\n",
      "|     2      |     7     |         0.0          |  4   |\n",
      "|     3      |     1     | 0.12598816553751627  |  1   |\n",
      "|     3      |     4     | 0.12598816553751627  |  2   |\n",
      "|     3      |     7     |         0.0          |  3   |\n",
      "|     4      |     2     | 0.036369641621907554 |  1   |\n",
      "|     4      |     6     | 0.015748520692189533 |  2   |\n",
      "|     4      |     1     | 0.015748520692189533 |  3   |\n",
      "|     4      |     4     | 0.015748520692189533 |  4   |\n",
      "|     4      |     3     |         0.0          |  5   |\n",
      "+------------+-----------+----------------------+------+\n",
      "[19 rows x 4 columns]\n",
      "\n"
     ]
    }
   ],
   "source": [
    "name = 'cosine'\n",
    "target = 'purchase_count'\n",
    "cos = model(train_data, name, user_id, item_id, target, users_to_recommend, n_rec, n_display)"
   ]
  },
  {
   "cell_type": "code",
   "execution_count": 128,
   "metadata": {},
   "outputs": [
    {
     "data": {
      "text/html": [
       "<pre>Preparing data set.</pre>"
      ],
      "text/plain": [
       "Preparing data set."
      ]
     },
     "metadata": {},
     "output_type": "display_data"
    },
    {
     "data": {
      "text/html": [
       "<pre>    Data has 11 observations with 5 users and 7 items.</pre>"
      ],
      "text/plain": [
       "    Data has 11 observations with 5 users and 7 items."
      ]
     },
     "metadata": {},
     "output_type": "display_data"
    },
    {
     "data": {
      "text/html": [
       "<pre>    Data prepared in: 0.002443s</pre>"
      ],
      "text/plain": [
       "    Data prepared in: 0.002443s"
      ]
     },
     "metadata": {},
     "output_type": "display_data"
    },
    {
     "data": {
      "text/html": [
       "<pre>Training model from provided data.</pre>"
      ],
      "text/plain": [
       "Training model from provided data."
      ]
     },
     "metadata": {},
     "output_type": "display_data"
    },
    {
     "data": {
      "text/html": [
       "<pre>Gathering per-item and per-user statistics.</pre>"
      ],
      "text/plain": [
       "Gathering per-item and per-user statistics."
      ]
     },
     "metadata": {},
     "output_type": "display_data"
    },
    {
     "data": {
      "text/html": [
       "<pre>+--------------------------------+------------+</pre>"
      ],
      "text/plain": [
       "+--------------------------------+------------+"
      ]
     },
     "metadata": {},
     "output_type": "display_data"
    },
    {
     "data": {
      "text/html": [
       "<pre>| Elapsed Time (Item Statistics) | % Complete |</pre>"
      ],
      "text/plain": [
       "| Elapsed Time (Item Statistics) | % Complete |"
      ]
     },
     "metadata": {},
     "output_type": "display_data"
    },
    {
     "data": {
      "text/html": [
       "<pre>+--------------------------------+------------+</pre>"
      ],
      "text/plain": [
       "+--------------------------------+------------+"
      ]
     },
     "metadata": {},
     "output_type": "display_data"
    },
    {
     "data": {
      "text/html": [
       "<pre>| 6.41ms                         | 100        |</pre>"
      ],
      "text/plain": [
       "| 6.41ms                         | 100        |"
      ]
     },
     "metadata": {},
     "output_type": "display_data"
    },
    {
     "name": "stdout",
     "output_type": "stream",
     "text": [
      "+------------+-----------+----------------------+------+\n",
      "| customerId | productId |        score         | rank |\n",
      "+------------+-----------+----------------------+------+\n",
      "|     0      |     3     |  0.4163127839565277  |  1   |\n",
      "|     0      |     1     |  0.3535533845424652  |  2   |\n",
      "|     0      |     6     | 0.28867512941360474  |  3   |\n",
      "|     0      |     8     | 0.28867512941360474  |  4   |\n",
      "|     0      |     7     |         0.0          |  5   |\n",
      "|     1      |     2     |  0.3082153598467509  |  1   |\n",
      "|     1      |     6     |         0.0          |  2   |\n",
      "|     1      |     7     |         0.0          |  3   |\n",
      "|     1      |     8     |         0.0          |  4   |\n",
      "|     2      |     4     |  0.5203519463539124  |  1   |\n",
      "|     2      |     1     |  0.4472135901451111  |  2   |\n",
      "|     2      |     6     | 0.28867512941360474  |  3   |\n",
      "|     2      |     8     | 0.28867512941360474  |  4   |\n",
      "|     2      |     7     |         0.0          |  5   |\n",
      "|     3      |     3     |  0.1721325914065043  |  1   |\n",
      "|     3      |     4     | 0.13608276844024658  |  2   |\n",
      "|     3      |     7     |         0.0          |  3   |\n",
      "|     3      |     1     |         0.0          |  4   |\n",
      "|     4      |     2     | 0.036885551043919156 |  1   |\n",
      "|     4      |     1     | 0.031943823610033305 |  2   |\n",
      "|     4      |     4     | 0.022587699549538747 |  3   |\n",
      "|     4      |     6     |         0.0          |  4   |\n",
      "|     4      |     3     |         0.0          |  5   |\n",
      "|     4      |     8     |         0.0          |  6   |\n",
      "+------------+-----------+----------------------+------+\n",
      "[24 rows x 4 columns]\n",
      "\n"
     ]
    },
    {
     "data": {
      "text/html": [
       "<pre>+--------------------------------+------------+</pre>"
      ],
      "text/plain": [
       "+--------------------------------+------------+"
      ]
     },
     "metadata": {},
     "output_type": "display_data"
    },
    {
     "data": {
      "text/html": [
       "<pre>Setting up lookup tables.</pre>"
      ],
      "text/plain": [
       "Setting up lookup tables."
      ]
     },
     "metadata": {},
     "output_type": "display_data"
    }
   ],
   "source": [
    "name = 'cosine' \n",
    "target = 'scaled_purchase_freq' \n",
    "cos_norm = model(train_data_norm, name, user_id, item_id, target, users_to_recommend, n_rec, n_display)"
   ]
  },
  {
   "cell_type": "code",
   "execution_count": 129,
   "metadata": {
    "scrolled": true
   },
   "outputs": [
    {
     "data": {
      "text/html": [
       "<pre>Processing data in one pass using dense lookup tables.</pre>"
      ],
      "text/plain": [
       "Processing data in one pass using dense lookup tables."
      ]
     },
     "metadata": {},
     "output_type": "display_data"
    },
    {
     "data": {
      "text/html": [
       "<pre>+-------------------------------------+------------------+-----------------+</pre>"
      ],
      "text/plain": [
       "+-------------------------------------+------------------+-----------------+"
      ]
     },
     "metadata": {},
     "output_type": "display_data"
    },
    {
     "data": {
      "text/html": [
       "<pre>| Elapsed Time (Constructing Lookups) | Total % Complete | Items Processed |</pre>"
      ],
      "text/plain": [
       "| Elapsed Time (Constructing Lookups) | Total % Complete | Items Processed |"
      ]
     },
     "metadata": {},
     "output_type": "display_data"
    },
    {
     "data": {
      "text/html": [
       "<pre>+-------------------------------------+------------------+-----------------+</pre>"
      ],
      "text/plain": [
       "+-------------------------------------+------------------+-----------------+"
      ]
     },
     "metadata": {},
     "output_type": "display_data"
    },
    {
     "data": {
      "text/html": [
       "<pre>| 6.709ms                             | 14.25            | 1               |</pre>"
      ],
      "text/plain": [
       "| 6.709ms                             | 14.25            | 1               |"
      ]
     },
     "metadata": {},
     "output_type": "display_data"
    },
    {
     "data": {
      "text/html": [
       "<pre>| 12.149ms                            | 100              | 7               |</pre>"
      ],
      "text/plain": [
       "| 12.149ms                            | 100              | 7               |"
      ]
     },
     "metadata": {},
     "output_type": "display_data"
    },
    {
     "data": {
      "text/html": [
       "<pre>+-------------------------------------+------------------+-----------------+</pre>"
      ],
      "text/plain": [
       "+-------------------------------------+------------------+-----------------+"
      ]
     },
     "metadata": {},
     "output_type": "display_data"
    },
    {
     "data": {
      "text/html": [
       "<pre>Finalizing lookup tables.</pre>"
      ],
      "text/plain": [
       "Finalizing lookup tables."
      ]
     },
     "metadata": {},
     "output_type": "display_data"
    },
    {
     "data": {
      "text/html": [
       "<pre>Generating candidate set for working with new users.</pre>"
      ],
      "text/plain": [
       "Generating candidate set for working with new users."
      ]
     },
     "metadata": {},
     "output_type": "display_data"
    },
    {
     "data": {
      "text/html": [
       "<pre>Finished training in 0.012824s</pre>"
      ],
      "text/plain": [
       "Finished training in 0.012824s"
      ]
     },
     "metadata": {},
     "output_type": "display_data"
    },
    {
     "data": {
      "text/html": [
       "<pre>Warning: Ignoring columns purchase_count;</pre>"
      ],
      "text/plain": [
       "Warning: Ignoring columns purchase_count;"
      ]
     },
     "metadata": {},
     "output_type": "display_data"
    },
    {
     "data": {
      "text/html": [
       "<pre>    To use these columns in scoring predictions, use a model that allows the use of additional features.</pre>"
      ],
      "text/plain": [
       "    To use these columns in scoring predictions, use a model that allows the use of additional features."
      ]
     },
     "metadata": {},
     "output_type": "display_data"
    },
    {
     "data": {
      "text/html": [
       "<pre>Preparing data set.</pre>"
      ],
      "text/plain": [
       "Preparing data set."
      ]
     },
     "metadata": {},
     "output_type": "display_data"
    },
    {
     "data": {
      "text/html": [
       "<pre>    Data has 11 observations with 4 users and 8 items.</pre>"
      ],
      "text/plain": [
       "    Data has 11 observations with 4 users and 8 items."
      ]
     },
     "metadata": {},
     "output_type": "display_data"
    },
    {
     "data": {
      "text/html": [
       "<pre>    Data prepared in: 0.00263s</pre>"
      ],
      "text/plain": [
       "    Data prepared in: 0.00263s"
      ]
     },
     "metadata": {},
     "output_type": "display_data"
    },
    {
     "data": {
      "text/html": [
       "<pre>Training model from provided data.</pre>"
      ],
      "text/plain": [
       "Training model from provided data."
      ]
     },
     "metadata": {},
     "output_type": "display_data"
    },
    {
     "data": {
      "text/html": [
       "<pre>Gathering per-item and per-user statistics.</pre>"
      ],
      "text/plain": [
       "Gathering per-item and per-user statistics."
      ]
     },
     "metadata": {},
     "output_type": "display_data"
    },
    {
     "data": {
      "text/html": [
       "<pre>+--------------------------------+------------+</pre>"
      ],
      "text/plain": [
       "+--------------------------------+------------+"
      ]
     },
     "metadata": {},
     "output_type": "display_data"
    },
    {
     "data": {
      "text/html": [
       "<pre>| Elapsed Time (Item Statistics) | % Complete |</pre>"
      ],
      "text/plain": [
       "| Elapsed Time (Item Statistics) | % Complete |"
      ]
     },
     "metadata": {},
     "output_type": "display_data"
    },
    {
     "data": {
      "text/html": [
       "<pre>+--------------------------------+------------+</pre>"
      ],
      "text/plain": [
       "+--------------------------------+------------+"
      ]
     },
     "metadata": {},
     "output_type": "display_data"
    },
    {
     "data": {
      "text/html": [
       "<pre>| 1.186ms                        | 100        |</pre>"
      ],
      "text/plain": [
       "| 1.186ms                        | 100        |"
      ]
     },
     "metadata": {},
     "output_type": "display_data"
    },
    {
     "data": {
      "text/html": [
       "<pre>+--------------------------------+------------+</pre>"
      ],
      "text/plain": [
       "+--------------------------------+------------+"
      ]
     },
     "metadata": {},
     "output_type": "display_data"
    },
    {
     "data": {
      "text/html": [
       "<pre>Setting up lookup tables.</pre>"
      ],
      "text/plain": [
       "Setting up lookup tables."
      ]
     },
     "metadata": {},
     "output_type": "display_data"
    },
    {
     "data": {
      "text/html": [
       "<pre>Processing data in one pass using dense lookup tables.</pre>"
      ],
      "text/plain": [
       "Processing data in one pass using dense lookup tables."
      ]
     },
     "metadata": {},
     "output_type": "display_data"
    },
    {
     "data": {
      "text/html": [
       "<pre>+-------------------------------------+------------------+-----------------+</pre>"
      ],
      "text/plain": [
       "+-------------------------------------+------------------+-----------------+"
      ]
     },
     "metadata": {},
     "output_type": "display_data"
    },
    {
     "name": "stdout",
     "output_type": "stream",
     "text": [
      "+------------+-----------+---------------------+------+\n",
      "| customerId | productId |        score        | rank |\n",
      "+------------+-----------+---------------------+------+\n",
      "|     0      |     6     | 0.47140451272328693 |  1   |\n",
      "|     0      |     8     | 0.47140451272328693 |  2   |\n",
      "|     0      |     5     | 0.23570225636164346 |  3   |\n",
      "|     0      |     1     | 0.23570225636164346 |  4   |\n",
      "|     0      |     7     |         0.0         |  5   |\n",
      "|     1      |     2     | 0.16666666666666666 |  1   |\n",
      "|     1      |     3     | 0.16666666666666666 |  2   |\n",
      "|     1      |     6     |         0.0         |  3   |\n",
      "|     1      |     7     |         0.0         |  4   |\n",
      "|     1      |     8     |         0.0         |  5   |\n",
      "|     2      |     5     |         0.0         |  1   |\n",
      "|     2      |     4     |         0.0         |  2   |\n",
      "|     2      |     2     |         0.0         |  3   |\n",
      "|     2      |     3     |         0.0         |  4   |\n",
      "|     2      |     6     |         0.0         |  5   |\n",
      "|     2      |     7     |         0.0         |  6   |\n",
      "|     2      |     8     |         0.0         |  7   |\n",
      "|     2      |     1     |         0.0         |  8   |\n",
      "|     3      |     4     |         0.25        |  1   |\n",
      "|     3      |     5     |         0.0         |  2   |\n",
      "|     3      |     7     |         0.0         |  3   |\n",
      "|     3      |     1     |         0.0         |  4   |\n",
      "|     4      |     5     |         0.0         |  1   |\n",
      "|     4      |     4     |         0.0         |  2   |\n",
      "|     4      |     2     |         0.0         |  3   |\n",
      "|     4      |     3     |         0.0         |  4   |\n",
      "|     4      |     6     |         0.0         |  5   |\n",
      "|     4      |     8     |         0.0         |  6   |\n",
      "|     4      |     1     |         0.0         |  7   |\n",
      "+------------+-----------+---------------------+------+\n",
      "[29 rows x 4 columns]\n",
      "\n"
     ]
    },
    {
     "data": {
      "text/html": [
       "<pre>| Elapsed Time (Constructing Lookups) | Total % Complete | Items Processed |</pre>"
      ],
      "text/plain": [
       "| Elapsed Time (Constructing Lookups) | Total % Complete | Items Processed |"
      ]
     },
     "metadata": {},
     "output_type": "display_data"
    },
    {
     "data": {
      "text/html": [
       "<pre>+-------------------------------------+------------------+-----------------+</pre>"
      ],
      "text/plain": [
       "+-------------------------------------+------------------+-----------------+"
      ]
     },
     "metadata": {},
     "output_type": "display_data"
    },
    {
     "data": {
      "text/html": [
       "<pre>| 1.465ms                             | 25               | 2               |</pre>"
      ],
      "text/plain": [
       "| 1.465ms                             | 25               | 2               |"
      ]
     },
     "metadata": {},
     "output_type": "display_data"
    }
   ],
   "source": [
    "name = 'cosine'\n",
    "target = 'purchase_dummy'\n",
    "cos_dummy = model(train_data_dummy, name, user_id, item_id, target, users_to_recommend, n_rec, n_display)\n",
    "\n"
   ]
  },
  {
   "cell_type": "code",
   "execution_count": 130,
   "metadata": {},
   "outputs": [
    {
     "data": {
      "text/html": [
       "<pre>| 7.755ms                             | 100              | 8               |</pre>"
      ],
      "text/plain": [
       "| 7.755ms                             | 100              | 8               |"
      ]
     },
     "metadata": {},
     "output_type": "display_data"
    },
    {
     "data": {
      "text/html": [
       "<pre>+-------------------------------------+------------------+-----------------+</pre>"
      ],
      "text/plain": [
       "+-------------------------------------+------------------+-----------------+"
      ]
     },
     "metadata": {},
     "output_type": "display_data"
    },
    {
     "data": {
      "text/html": [
       "<pre>Finalizing lookup tables.</pre>"
      ],
      "text/plain": [
       "Finalizing lookup tables."
      ]
     },
     "metadata": {},
     "output_type": "display_data"
    },
    {
     "data": {
      "text/html": [
       "<pre>Generating candidate set for working with new users.</pre>"
      ],
      "text/plain": [
       "Generating candidate set for working with new users."
      ]
     },
     "metadata": {},
     "output_type": "display_data"
    },
    {
     "data": {
      "text/html": [
       "<pre>Finished training in 0.012676s</pre>"
      ],
      "text/plain": [
       "Finished training in 0.012676s"
      ]
     },
     "metadata": {},
     "output_type": "display_data"
    },
    {
     "data": {
      "text/html": [
       "<pre>Preparing data set.</pre>"
      ],
      "text/plain": [
       "Preparing data set."
      ]
     },
     "metadata": {},
     "output_type": "display_data"
    },
    {
     "data": {
      "text/html": [
       "<pre>    Data has 11 observations with 5 users and 6 items.</pre>"
      ],
      "text/plain": [
       "    Data has 11 observations with 5 users and 6 items."
      ]
     },
     "metadata": {},
     "output_type": "display_data"
    },
    {
     "data": {
      "text/html": [
       "<pre>    Data prepared in: 0.002953s</pre>"
      ],
      "text/plain": [
       "    Data prepared in: 0.002953s"
      ]
     },
     "metadata": {},
     "output_type": "display_data"
    },
    {
     "data": {
      "text/html": [
       "<pre>Training model from provided data.</pre>"
      ],
      "text/plain": [
       "Training model from provided data."
      ]
     },
     "metadata": {},
     "output_type": "display_data"
    },
    {
     "data": {
      "text/html": [
       "<pre>Gathering per-item and per-user statistics.</pre>"
      ],
      "text/plain": [
       "Gathering per-item and per-user statistics."
      ]
     },
     "metadata": {},
     "output_type": "display_data"
    },
    {
     "data": {
      "text/html": [
       "<pre>+--------------------------------+------------+</pre>"
      ],
      "text/plain": [
       "+--------------------------------+------------+"
      ]
     },
     "metadata": {},
     "output_type": "display_data"
    },
    {
     "data": {
      "text/html": [
       "<pre>| Elapsed Time (Item Statistics) | % Complete |</pre>"
      ],
      "text/plain": [
       "| Elapsed Time (Item Statistics) | % Complete |"
      ]
     },
     "metadata": {},
     "output_type": "display_data"
    },
    {
     "data": {
      "text/html": [
       "<pre>+--------------------------------+------------+</pre>"
      ],
      "text/plain": [
       "+--------------------------------+------------+"
      ]
     },
     "metadata": {},
     "output_type": "display_data"
    },
    {
     "data": {
      "text/html": [
       "<pre>| 500us                          | 100        |</pre>"
      ],
      "text/plain": [
       "| 500us                          | 100        |"
      ]
     },
     "metadata": {},
     "output_type": "display_data"
    },
    {
     "data": {
      "text/html": [
       "<pre>+--------------------------------+------------+</pre>"
      ],
      "text/plain": [
       "+--------------------------------+------------+"
      ]
     },
     "metadata": {},
     "output_type": "display_data"
    },
    {
     "data": {
      "text/html": [
       "<pre>Setting up lookup tables.</pre>"
      ],
      "text/plain": [
       "Setting up lookup tables."
      ]
     },
     "metadata": {},
     "output_type": "display_data"
    },
    {
     "name": "stdout",
     "output_type": "stream",
     "text": [
      "+------------+-----------+-------+------+\n",
      "| customerId | productId | score | rank |\n",
      "+------------+-----------+-------+------+\n",
      "|     0      |     6     |  0.0  |  1   |\n",
      "|     0      |     7     |  0.0  |  2   |\n",
      "|     0      |     1     |  0.0  |  3   |\n",
      "|     0      |     4     |  0.0  |  4   |\n",
      "|     1      |     6     |  0.0  |  1   |\n",
      "|     1      |     7     |  0.0  |  2   |\n",
      "|     1      |     2     |  0.0  |  3   |\n",
      "|     2      |     6     |  0.0  |  1   |\n",
      "|     2      |     7     |  0.0  |  2   |\n",
      "|     2      |     1     |  0.0  |  3   |\n",
      "|     2      |     4     |  0.0  |  4   |\n",
      "|     3      |     7     |  0.0  |  1   |\n",
      "|     3      |     1     |  0.0  |  2   |\n",
      "|     3      |     4     |  0.0  |  3   |\n",
      "|     4      |     3     |  0.25 |  1   |\n",
      "|     4      |     6     |  0.0  |  2   |\n",
      "|     4      |     2     |  0.0  |  3   |\n",
      "|     4      |     1     |  0.0  |  4   |\n",
      "|     4      |     4     |  0.0  |  5   |\n",
      "+------------+-----------+-------+------+\n",
      "[19 rows x 4 columns]\n",
      "\n"
     ]
    },
    {
     "data": {
      "text/html": [
       "<pre>Processing data in one pass using dense lookup tables.</pre>"
      ],
      "text/plain": [
       "Processing data in one pass using dense lookup tables."
      ]
     },
     "metadata": {},
     "output_type": "display_data"
    },
    {
     "data": {
      "text/html": [
       "<pre>+-------------------------------------+------------------+-----------------+</pre>"
      ],
      "text/plain": [
       "+-------------------------------------+------------------+-----------------+"
      ]
     },
     "metadata": {},
     "output_type": "display_data"
    },
    {
     "data": {
      "text/html": [
       "<pre>| Elapsed Time (Constructing Lookups) | Total % Complete | Items Processed |</pre>"
      ],
      "text/plain": [
       "| Elapsed Time (Constructing Lookups) | Total % Complete | Items Processed |"
      ]
     },
     "metadata": {},
     "output_type": "display_data"
    }
   ],
   "source": [
    "name = 'pearson'\n",
    "target = 'purchase_count'\n",
    "pear = model(train_data, name, user_id, item_id, target, users_to_recommend, n_rec, n_display)"
   ]
  },
  {
   "cell_type": "code",
   "execution_count": 131,
   "metadata": {},
   "outputs": [
    {
     "data": {
      "text/html": [
       "<pre>+-------------------------------------+------------------+-----------------+</pre>"
      ],
      "text/plain": [
       "+-------------------------------------+------------------+-----------------+"
      ]
     },
     "metadata": {},
     "output_type": "display_data"
    },
    {
     "data": {
      "text/html": [
       "<pre>| 818us                               | 33.25            | 2               |</pre>"
      ],
      "text/plain": [
       "| 818us                               | 33.25            | 2               |"
      ]
     },
     "metadata": {},
     "output_type": "display_data"
    },
    {
     "data": {
      "text/html": [
       "<pre>| 2.908ms                             | 100              | 6               |</pre>"
      ],
      "text/plain": [
       "| 2.908ms                             | 100              | 6               |"
      ]
     },
     "metadata": {},
     "output_type": "display_data"
    },
    {
     "data": {
      "text/html": [
       "<pre>+-------------------------------------+------------------+-----------------+</pre>"
      ],
      "text/plain": [
       "+-------------------------------------+------------------+-----------------+"
      ]
     },
     "metadata": {},
     "output_type": "display_data"
    },
    {
     "data": {
      "text/html": [
       "<pre>Finalizing lookup tables.</pre>"
      ],
      "text/plain": [
       "Finalizing lookup tables."
      ]
     },
     "metadata": {},
     "output_type": "display_data"
    },
    {
     "data": {
      "text/html": [
       "<pre>Generating candidate set for working with new users.</pre>"
      ],
      "text/plain": [
       "Generating candidate set for working with new users."
      ]
     },
     "metadata": {},
     "output_type": "display_data"
    },
    {
     "data": {
      "text/html": [
       "<pre>Finished training in 0.00381s</pre>"
      ],
      "text/plain": [
       "Finished training in 0.00381s"
      ]
     },
     "metadata": {},
     "output_type": "display_data"
    },
    {
     "data": {
      "text/html": [
       "<pre>Warning: Ignoring columns purchase_count;</pre>"
      ],
      "text/plain": [
       "Warning: Ignoring columns purchase_count;"
      ]
     },
     "metadata": {},
     "output_type": "display_data"
    },
    {
     "data": {
      "text/html": [
       "<pre>    To use these columns in scoring predictions, use a model that allows the use of additional features.</pre>"
      ],
      "text/plain": [
       "    To use these columns in scoring predictions, use a model that allows the use of additional features."
      ]
     },
     "metadata": {},
     "output_type": "display_data"
    },
    {
     "data": {
      "text/html": [
       "<pre>Preparing data set.</pre>"
      ],
      "text/plain": [
       "Preparing data set."
      ]
     },
     "metadata": {},
     "output_type": "display_data"
    },
    {
     "data": {
      "text/html": [
       "<pre>    Data has 11 observations with 4 users and 8 items.</pre>"
      ],
      "text/plain": [
       "    Data has 11 observations with 4 users and 8 items."
      ]
     },
     "metadata": {},
     "output_type": "display_data"
    },
    {
     "data": {
      "text/html": [
       "<pre>    Data prepared in: 0.006543s</pre>"
      ],
      "text/plain": [
       "    Data prepared in: 0.006543s"
      ]
     },
     "metadata": {},
     "output_type": "display_data"
    },
    {
     "data": {
      "text/html": [
       "<pre>Training model from provided data.</pre>"
      ],
      "text/plain": [
       "Training model from provided data."
      ]
     },
     "metadata": {},
     "output_type": "display_data"
    },
    {
     "data": {
      "text/html": [
       "<pre>Gathering per-item and per-user statistics.</pre>"
      ],
      "text/plain": [
       "Gathering per-item and per-user statistics."
      ]
     },
     "metadata": {},
     "output_type": "display_data"
    },
    {
     "data": {
      "text/html": [
       "<pre>+--------------------------------+------------+</pre>"
      ],
      "text/plain": [
       "+--------------------------------+------------+"
      ]
     },
     "metadata": {},
     "output_type": "display_data"
    },
    {
     "data": {
      "text/html": [
       "<pre>| Elapsed Time (Item Statistics) | % Complete |</pre>"
      ],
      "text/plain": [
       "| Elapsed Time (Item Statistics) | % Complete |"
      ]
     },
     "metadata": {},
     "output_type": "display_data"
    },
    {
     "data": {
      "text/html": [
       "<pre>+--------------------------------+------------+</pre>"
      ],
      "text/plain": [
       "+--------------------------------+------------+"
      ]
     },
     "metadata": {},
     "output_type": "display_data"
    },
    {
     "data": {
      "text/html": [
       "<pre>| 12.172ms                       | 100        |</pre>"
      ],
      "text/plain": [
       "| 12.172ms                       | 100        |"
      ]
     },
     "metadata": {},
     "output_type": "display_data"
    },
    {
     "data": {
      "text/html": [
       "<pre>+--------------------------------+------------+</pre>"
      ],
      "text/plain": [
       "+--------------------------------+------------+"
      ]
     },
     "metadata": {},
     "output_type": "display_data"
    },
    {
     "name": "stdout",
     "output_type": "stream",
     "text": [
      "+------------+-----------+-------+------+\n",
      "| customerId | productId | score | rank |\n",
      "+------------+-----------+-------+------+\n",
      "|     0      |     5     |  0.0  |  1   |\n",
      "|     0      |     6     |  0.0  |  2   |\n",
      "|     0      |     7     |  0.0  |  3   |\n",
      "|     0      |     8     |  0.0  |  4   |\n",
      "|     0      |     1     |  0.0  |  5   |\n",
      "|     1      |     2     |  0.0  |  1   |\n",
      "|     1      |     3     |  0.0  |  2   |\n",
      "|     1      |     6     |  0.0  |  3   |\n",
      "|     1      |     7     |  0.0  |  4   |\n",
      "|     1      |     8     |  0.0  |  5   |\n",
      "|     2      |     5     |  0.0  |  1   |\n",
      "|     2      |     4     |  0.0  |  2   |\n",
      "|     2      |     2     |  0.0  |  3   |\n",
      "|     2      |     3     |  0.0  |  4   |\n",
      "|     2      |     6     |  0.0  |  5   |\n",
      "|     2      |     7     |  0.0  |  6   |\n",
      "|     2      |     8     |  0.0  |  7   |\n",
      "|     2      |     1     |  0.0  |  8   |\n",
      "|     3      |     5     |  0.0  |  1   |\n",
      "|     3      |     4     |  0.0  |  2   |\n",
      "|     3      |     7     |  0.0  |  3   |\n",
      "|     3      |     1     |  0.0  |  4   |\n",
      "|     4      |     5     |  0.0  |  1   |\n",
      "|     4      |     4     |  0.0  |  2   |\n",
      "|     4      |     2     |  0.0  |  3   |\n",
      "|     4      |     3     |  0.0  |  4   |\n",
      "|     4      |     6     |  0.0  |  5   |\n",
      "|     4      |     8     |  0.0  |  6   |\n",
      "|     4      |     1     |  0.0  |  7   |\n",
      "+------------+-----------+-------+------+\n",
      "[29 rows x 4 columns]\n",
      "\n"
     ]
    },
    {
     "data": {
      "text/html": [
       "<pre>Setting up lookup tables.</pre>"
      ],
      "text/plain": [
       "Setting up lookup tables."
      ]
     },
     "metadata": {},
     "output_type": "display_data"
    },
    {
     "data": {
      "text/html": [
       "<pre>Processing data in one pass using dense lookup tables.</pre>"
      ],
      "text/plain": [
       "Processing data in one pass using dense lookup tables."
      ]
     },
     "metadata": {},
     "output_type": "display_data"
    }
   ],
   "source": [
    "name = 'pearson'\n",
    "target = 'purchase_dummy'\n",
    "pear_dummy = model(train_data_dummy, name, user_id, item_id, target, users_to_recommend, n_rec, n_display)"
   ]
  },
  {
   "cell_type": "code",
   "execution_count": 132,
   "metadata": {},
   "outputs": [
    {
     "data": {
      "text/html": [
       "<pre>+-------------------------------------+------------------+-----------------+</pre>"
      ],
      "text/plain": [
       "+-------------------------------------+------------------+-----------------+"
      ]
     },
     "metadata": {},
     "output_type": "display_data"
    },
    {
     "data": {
      "text/html": [
       "<pre>| Elapsed Time (Constructing Lookups) | Total % Complete | Items Processed |</pre>"
      ],
      "text/plain": [
       "| Elapsed Time (Constructing Lookups) | Total % Complete | Items Processed |"
      ]
     },
     "metadata": {},
     "output_type": "display_data"
    },
    {
     "data": {
      "text/html": [
       "<pre>+-------------------------------------+------------------+-----------------+</pre>"
      ],
      "text/plain": [
       "+-------------------------------------+------------------+-----------------+"
      ]
     },
     "metadata": {},
     "output_type": "display_data"
    },
    {
     "data": {
      "text/html": [
       "<pre>| 17.744ms                            | 1.5              | 0               |</pre>"
      ],
      "text/plain": [
       "| 17.744ms                            | 1.5              | 0               |"
      ]
     },
     "metadata": {},
     "output_type": "display_data"
    },
    {
     "data": {
      "text/html": [
       "<pre>| 18.344ms                            | 100              | 8               |</pre>"
      ],
      "text/plain": [
       "| 18.344ms                            | 100              | 8               |"
      ]
     },
     "metadata": {},
     "output_type": "display_data"
    },
    {
     "data": {
      "text/html": [
       "<pre>+-------------------------------------+------------------+-----------------+</pre>"
      ],
      "text/plain": [
       "+-------------------------------------+------------------+-----------------+"
      ]
     },
     "metadata": {},
     "output_type": "display_data"
    },
    {
     "data": {
      "text/html": [
       "<pre>Finalizing lookup tables.</pre>"
      ],
      "text/plain": [
       "Finalizing lookup tables."
      ]
     },
     "metadata": {},
     "output_type": "display_data"
    },
    {
     "data": {
      "text/html": [
       "<pre>Generating candidate set for working with new users.</pre>"
      ],
      "text/plain": [
       "Generating candidate set for working with new users."
      ]
     },
     "metadata": {},
     "output_type": "display_data"
    },
    {
     "data": {
      "text/html": [
       "<pre>Finished training in 0.020032s</pre>"
      ],
      "text/plain": [
       "Finished training in 0.020032s"
      ]
     },
     "metadata": {},
     "output_type": "display_data"
    },
    {
     "data": {
      "text/html": [
       "<pre>Preparing data set.</pre>"
      ],
      "text/plain": [
       "Preparing data set."
      ]
     },
     "metadata": {},
     "output_type": "display_data"
    },
    {
     "data": {
      "text/html": [
       "<pre>    Data has 11 observations with 5 users and 7 items.</pre>"
      ],
      "text/plain": [
       "    Data has 11 observations with 5 users and 7 items."
      ]
     },
     "metadata": {},
     "output_type": "display_data"
    },
    {
     "data": {
      "text/html": [
       "<pre>    Data prepared in: 0.008758s</pre>"
      ],
      "text/plain": [
       "    Data prepared in: 0.008758s"
      ]
     },
     "metadata": {},
     "output_type": "display_data"
    },
    {
     "data": {
      "text/html": [
       "<pre>Training model from provided data.</pre>"
      ],
      "text/plain": [
       "Training model from provided data."
      ]
     },
     "metadata": {},
     "output_type": "display_data"
    },
    {
     "data": {
      "text/html": [
       "<pre>Gathering per-item and per-user statistics.</pre>"
      ],
      "text/plain": [
       "Gathering per-item and per-user statistics."
      ]
     },
     "metadata": {},
     "output_type": "display_data"
    },
    {
     "name": "stdout",
     "output_type": "stream",
     "text": [
      "+------------+-----------+-------+------+\n",
      "| customerId | productId | score | rank |\n",
      "+------------+-----------+-------+------+\n",
      "|     0      |     3     |  0.5  |  1   |\n",
      "|     0      |     6     |  0.0  |  2   |\n",
      "|     0      |     7     |  0.0  |  3   |\n",
      "|     0      |     8     |  0.0  |  4   |\n",
      "|     0      |     1     |  0.0  |  5   |\n",
      "|     1      |     2     |  0.0  |  1   |\n",
      "|     1      |     6     |  0.0  |  2   |\n",
      "|     1      |     7     |  0.0  |  3   |\n",
      "|     1      |     8     |  0.0  |  4   |\n",
      "|     2      |     4     |  0.0  |  1   |\n",
      "|     2      |     6     |  0.0  |  2   |\n",
      "|     2      |     7     |  0.0  |  3   |\n",
      "|     2      |     8     |  0.0  |  4   |\n",
      "|     2      |     1     |  0.0  |  5   |\n",
      "|     3      |     3     |  0.5  |  1   |\n",
      "|     3      |     4     |  0.0  |  2   |\n",
      "|     3      |     7     |  0.0  |  3   |\n",
      "|     3      |     1     |  0.0  |  4   |\n",
      "|     4      |     3     |  0.5  |  1   |\n",
      "|     4      |     4     |  0.0  |  2   |\n",
      "|     4      |     2     |  0.0  |  3   |\n",
      "|     4      |     6     |  0.0  |  4   |\n",
      "|     4      |     8     |  0.0  |  5   |\n",
      "|     4      |     1     |  0.0  |  6   |\n",
      "+------------+-----------+-------+------+\n",
      "[24 rows x 4 columns]\n",
      "\n"
     ]
    },
    {
     "data": {
      "text/html": [
       "<pre>+--------------------------------+------------+</pre>"
      ],
      "text/plain": [
       "+--------------------------------+------------+"
      ]
     },
     "metadata": {},
     "output_type": "display_data"
    },
    {
     "data": {
      "text/html": [
       "<pre>| Elapsed Time (Item Statistics) | % Complete |</pre>"
      ],
      "text/plain": [
       "| Elapsed Time (Item Statistics) | % Complete |"
      ]
     },
     "metadata": {},
     "output_type": "display_data"
    }
   ],
   "source": [
    "name = 'pearson'\n",
    "target = 'scaled_purchase_freq'\n",
    "pear_norm = model(train_data_norm, name, user_id, item_id, target, users_to_recommend, n_rec, n_display)\n",
    "\n"
   ]
  },
  {
   "cell_type": "code",
   "execution_count": 133,
   "metadata": {},
   "outputs": [
    {
     "data": {
      "text/html": [
       "<pre>+--------------------------------+------------+</pre>"
      ],
      "text/plain": [
       "+--------------------------------+------------+"
      ]
     },
     "metadata": {},
     "output_type": "display_data"
    },
    {
     "data": {
      "text/html": [
       "<pre>| 11.26ms                        | 100        |</pre>"
      ],
      "text/plain": [
       "| 11.26ms                        | 100        |"
      ]
     },
     "metadata": {},
     "output_type": "display_data"
    },
    {
     "data": {
      "text/html": [
       "<pre>+--------------------------------+------------+</pre>"
      ],
      "text/plain": [
       "+--------------------------------+------------+"
      ]
     },
     "metadata": {},
     "output_type": "display_data"
    }
   ],
   "source": [
    "models_w_counts = [popularity, cos, pear]\n",
    "models_w_dummy = [pop_dummy, cos_dummy, pear_dummy]\n",
    "models_w_norm = [pop_norm, cos_norm, pear_norm]\n",
    "names_w_counts = ['Popularity Model on Purchase Counts', 'Cosine Similarity on Purchase Counts', 'Pearson Similarity on Purchase Counts']\n",
    "names_w_dummy = ['Popularity Model on Purchase Dummy', 'Cosine Similarity on Purchase Dummy', 'Pearson Similarity on Purchase Dummy']\n",
    "names_w_norm = ['Popularity Model on Scaled Purchase Counts', 'Cosine Similarity on Scaled Purchase Counts', 'Pearson Similarity on Scaled Purchase Counts']"
   ]
  },
  {
   "cell_type": "code",
   "execution_count": 134,
   "metadata": {},
   "outputs": [
    {
     "data": {
      "text/html": [
       "<pre>Setting up lookup tables.</pre>"
      ],
      "text/plain": [
       "Setting up lookup tables."
      ]
     },
     "metadata": {},
     "output_type": "display_data"
    },
    {
     "data": {
      "text/html": [
       "<pre>Processing data in one pass using dense lookup tables.</pre>"
      ],
      "text/plain": [
       "Processing data in one pass using dense lookup tables."
      ]
     },
     "metadata": {},
     "output_type": "display_data"
    },
    {
     "data": {
      "text/html": [
       "<pre>+-------------------------------------+------------------+-----------------+</pre>"
      ],
      "text/plain": [
       "+-------------------------------------+------------------+-----------------+"
      ]
     },
     "metadata": {},
     "output_type": "display_data"
    },
    {
     "data": {
      "text/html": [
       "<pre>| Elapsed Time (Constructing Lookups) | Total % Complete | Items Processed |</pre>"
      ],
      "text/plain": [
       "| Elapsed Time (Constructing Lookups) | Total % Complete | Items Processed |"
      ]
     },
     "metadata": {},
     "output_type": "display_data"
    },
    {
     "data": {
      "text/html": [
       "<pre>+-------------------------------------+------------------+-----------------+</pre>"
      ],
      "text/plain": [
       "+-------------------------------------+------------------+-----------------+"
      ]
     },
     "metadata": {},
     "output_type": "display_data"
    },
    {
     "data": {
      "text/html": [
       "<pre>| 11.747ms                            | 14.25            | 1               |</pre>"
      ],
      "text/plain": [
       "| 11.747ms                            | 14.25            | 1               |"
      ]
     },
     "metadata": {},
     "output_type": "display_data"
    },
    {
     "data": {
      "text/html": [
       "<pre>| 12.737ms                            | 100              | 7               |</pre>"
      ],
      "text/plain": [
       "| 12.737ms                            | 100              | 7               |"
      ]
     },
     "metadata": {},
     "output_type": "display_data"
    },
    {
     "data": {
      "text/html": [
       "<pre>+-------------------------------------+------------------+-----------------+</pre>"
      ],
      "text/plain": [
       "+-------------------------------------+------------------+-----------------+"
      ]
     },
     "metadata": {},
     "output_type": "display_data"
    },
    {
     "data": {
      "text/html": [
       "<pre>Finalizing lookup tables.</pre>"
      ],
      "text/plain": [
       "Finalizing lookup tables."
      ]
     },
     "metadata": {},
     "output_type": "display_data"
    },
    {
     "data": {
      "text/html": [
       "<pre>Generating candidate set for working with new users.</pre>"
      ],
      "text/plain": [
       "Generating candidate set for working with new users."
      ]
     },
     "metadata": {},
     "output_type": "display_data"
    },
    {
     "data": {
      "text/html": [
       "<pre>Finished training in 0.014171s</pre>"
      ],
      "text/plain": [
       "Finished training in 0.014171s"
      ]
     },
     "metadata": {},
     "output_type": "display_data"
    },
    {
     "name": "stdout",
     "output_type": "stream",
     "text": [
      "PROGRESS: Evaluate model Popularity Model on Purchase Counts\n",
      "\n",
      "Precision and recall summary statistics by cutoff\n",
      "+--------+---------------------+---------------------+\n",
      "| cutoff |    mean_precision   |     mean_recall     |\n",
      "+--------+---------------------+---------------------+\n",
      "|   1    |         0.0         |         0.0         |\n",
      "|   2    |         0.0         |         0.0         |\n",
      "|   3    |         0.0         |         0.0         |\n",
      "|   4    | 0.08333333333333333 |  0.3333333333333333 |\n",
      "|   5    | 0.08333333333333334 | 0.33333333333333337 |\n",
      "|   6    | 0.08333333333333334 | 0.33333333333333337 |\n",
      "|   7    | 0.08333333333333334 | 0.33333333333333337 |\n",
      "|   8    | 0.08333333333333334 | 0.33333333333333337 |\n",
      "|   9    | 0.08333333333333334 | 0.33333333333333337 |\n",
      "|   10   | 0.08333333333333334 | 0.33333333333333337 |\n",
      "+--------+---------------------+---------------------+\n",
      "[10 rows x 3 columns]\n",
      "\n",
      "\n",
      "Overall RMSE: 0.07422696190252048\n",
      "\n",
      "Per User RMSE (best)\n",
      "+------------+------+-------+\n",
      "| customerId | rmse | count |\n",
      "+------------+------+-------+\n",
      "|     0      | 0.0  |   1   |\n",
      "+------------+------+-------+\n",
      "[1 rows x 3 columns]\n",
      "\n",
      "\n",
      "Per User RMSE (worst)\n",
      "+------------+---------------------+-------+\n",
      "| customerId |         rmse        | count |\n",
      "+------------+---------------------+-------+\n",
      "|     3      | 0.09090909090909083 |   1   |\n",
      "+------------+---------------------+-------+\n",
      "[1 rows x 3 columns]\n",
      "\n",
      "\n",
      "Per Item RMSE (best)\n",
      "+-----------+------+-------+\n",
      "| productId | rmse | count |\n",
      "+-----------+------+-------+\n",
      "|     4     | 0.0  |   1   |\n",
      "+-----------+------+-------+\n",
      "[1 rows x 3 columns]\n",
      "\n",
      "\n",
      "Per Item RMSE (worst)\n",
      "+-----------+---------------------+-------+\n",
      "| productId |         rmse        | count |\n",
      "+-----------+---------------------+-------+\n",
      "|     8     | 0.09090909090909083 |   1   |\n",
      "+-----------+---------------------+-------+\n",
      "[1 rows x 3 columns]\n",
      "\n",
      "PROGRESS: Evaluate model Cosine Similarity on Purchase Counts\n",
      "\n",
      "Precision and recall summary statistics by cutoff\n",
      "+--------+---------------------+---------------------+\n",
      "| cutoff |    mean_precision   |     mean_recall     |\n",
      "+--------+---------------------+---------------------+\n",
      "|   1    |         0.0         |         0.0         |\n",
      "|   2    |         0.0         |         0.0         |\n",
      "|   3    |  0.1111111111111111 | 0.33333333333333337 |\n",
      "|   4    | 0.08333333333333334 | 0.33333333333333337 |\n",
      "|   5    | 0.08333333333333333 |  0.3333333333333333 |\n",
      "|   6    | 0.08333333333333333 |  0.3333333333333333 |\n",
      "|   7    | 0.08333333333333334 | 0.33333333333333337 |\n",
      "|   8    | 0.08333333333333334 | 0.33333333333333337 |\n",
      "|   9    | 0.08333333333333334 | 0.33333333333333337 |\n",
      "|   10   | 0.08333333333333334 | 0.33333333333333337 |\n",
      "+--------+---------------------+---------------------+\n",
      "[10 rows x 3 columns]\n",
      "\n",
      "\n",
      "Overall RMSE: 0.941231426299672\n",
      "\n",
      "Per User RMSE (best)\n",
      "+------------+--------------------+-------+\n",
      "| customerId |        rmse        | count |\n",
      "+------------+--------------------+-------+\n",
      "|     0      | 0.8110177516937256 |   1   |\n",
      "+------------+--------------------+-------+\n",
      "[1 rows x 3 columns]\n",
      "\n",
      "\n",
      "Per User RMSE (worst)\n",
      "+------------+------+-------+\n",
      "| customerId | rmse | count |\n",
      "+------------+------+-------+\n",
      "|     3      | 1.0  |   1   |\n",
      "+------------+------+-------+\n",
      "[1 rows x 3 columns]\n",
      "\n",
      "\n",
      "Per Item RMSE (best)\n",
      "+-----------+--------------------+-------+\n",
      "| productId |        rmse        | count |\n",
      "+-----------+--------------------+-------+\n",
      "|     4     | 0.8110177516937256 |   1   |\n",
      "+-----------+--------------------+-------+\n",
      "[1 rows x 3 columns]\n",
      "\n",
      "\n",
      "Per Item RMSE (worst)\n",
      "+-----------+------+-------+\n",
      "| productId | rmse | count |\n",
      "+-----------+------+-------+\n",
      "|     8     | 1.0  |   1   |\n",
      "+-----------+------+-------+\n",
      "[1 rows x 3 columns]\n",
      "\n",
      "PROGRESS: Evaluate model Pearson Similarity on Purchase Counts\n",
      "\n",
      "Precision and recall summary statistics by cutoff\n",
      "+--------+---------------------+---------------------+\n",
      "| cutoff |    mean_precision   |     mean_recall     |\n",
      "+--------+---------------------+---------------------+\n",
      "|   1    |         0.0         |         0.0         |\n",
      "|   2    |         0.0         |         0.0         |\n",
      "|   3    |         0.0         |         0.0         |\n",
      "|   4    | 0.08333333333333333 |  0.3333333333333333 |\n",
      "|   5    | 0.08333333333333334 | 0.33333333333333337 |\n",
      "|   6    | 0.08333333333333334 | 0.33333333333333337 |\n",
      "|   7    | 0.08333333333333334 | 0.33333333333333337 |\n",
      "|   8    | 0.08333333333333334 | 0.33333333333333337 |\n",
      "|   9    | 0.08333333333333334 | 0.33333333333333337 |\n",
      "|   10   | 0.08333333333333333 |  0.3333333333333333 |\n",
      "+--------+---------------------+---------------------+\n",
      "[10 rows x 3 columns]\n",
      "\n",
      "\n",
      "Overall RMSE: 1.0\n",
      "\n",
      "Per User RMSE (best)\n",
      "+------------+------+-------+\n",
      "| customerId | rmse | count |\n",
      "+------------+------+-------+\n",
      "|     1      | 1.0  |   1   |\n",
      "+------------+------+-------+\n",
      "[1 rows x 3 columns]\n",
      "\n",
      "\n",
      "Per User RMSE (worst)\n",
      "+------------+------+-------+\n",
      "| customerId | rmse | count |\n",
      "+------------+------+-------+\n",
      "|     0      | 1.0  |   1   |\n",
      "+------------+------+-------+\n",
      "[1 rows x 3 columns]\n",
      "\n",
      "\n",
      "Per Item RMSE (best)\n",
      "+-----------+------+-------+\n",
      "| productId | rmse | count |\n",
      "+-----------+------+-------+\n",
      "|     4     | 1.0  |   1   |\n",
      "+-----------+------+-------+\n",
      "[1 rows x 3 columns]\n",
      "\n",
      "\n",
      "Per Item RMSE (worst)\n",
      "+-----------+------+-------+\n",
      "| productId | rmse | count |\n",
      "+-----------+------+-------+\n",
      "|     8     | 1.0  |   1   |\n",
      "+-----------+------+-------+\n",
      "[1 rows x 3 columns]\n",
      "\n"
     ]
    }
   ],
   "source": [
    "eval_counts = tc.recommender.util.compare_models(test_data, models_w_counts, model_names=names_w_counts)\n"
   ]
  },
  {
   "cell_type": "code",
   "execution_count": 135,
   "metadata": {},
   "outputs": [
    {
     "name": "stdout",
     "output_type": "stream",
     "text": [
      "PROGRESS: Evaluate model Popularity Model on Purchase Dummy\n",
      "\n",
      "Precision and recall summary statistics by cutoff\n",
      "+--------+---------------------+-------------+\n",
      "| cutoff |    mean_precision   | mean_recall |\n",
      "+--------+---------------------+-------------+\n",
      "|   1    |         0.0         |     0.0     |\n",
      "|   2    |         0.25        |     0.5     |\n",
      "|   3    |  0.3333333333333333 |     0.75    |\n",
      "|   4    |        0.375        |     1.0     |\n",
      "|   5    | 0.30000000000000004 |     1.0     |\n",
      "|   6    | 0.26666666666666666 |     1.0     |\n",
      "|   7    | 0.24285714285714285 |     1.0     |\n",
      "|   8    |        0.225        |     1.0     |\n",
      "|   9    |        0.225        |     1.0     |\n",
      "|   10   |        0.225        |     1.0     |\n",
      "+--------+---------------------+-------------+\n",
      "[10 rows x 3 columns]\n",
      "\n",
      "\n",
      "Overall RMSE: 0.0\n",
      "\n",
      "Per User RMSE (best)\n",
      "+------------+------+-------+\n",
      "| customerId | rmse | count |\n",
      "+------------+------+-------+\n",
      "|     2      | 0.0  |   2   |\n",
      "+------------+------+-------+\n",
      "[1 rows x 3 columns]\n",
      "\n",
      "\n",
      "Per User RMSE (worst)\n",
      "+------------+------+-------+\n",
      "| customerId | rmse | count |\n",
      "+------------+------+-------+\n",
      "|     1      | 0.0  |   1   |\n",
      "+------------+------+-------+\n",
      "[1 rows x 3 columns]\n",
      "\n",
      "\n",
      "Per Item RMSE (best)\n",
      "+-----------+------+-------+\n",
      "| productId | rmse | count |\n",
      "+-----------+------+-------+\n",
      "|     2     | 0.0  |   1   |\n",
      "+-----------+------+-------+\n",
      "[1 rows x 3 columns]\n",
      "\n",
      "\n",
      "Per Item RMSE (worst)\n",
      "+-----------+------+-------+\n",
      "| productId | rmse | count |\n",
      "+-----------+------+-------+\n",
      "|     3     | 0.0  |   2   |\n",
      "+-----------+------+-------+\n",
      "[1 rows x 3 columns]\n",
      "\n",
      "PROGRESS: Evaluate model Cosine Similarity on Purchase Dummy\n",
      "\n",
      "Precision and recall summary statistics by cutoff\n",
      "+--------+---------------------+-------------+\n",
      "| cutoff |    mean_precision   | mean_recall |\n",
      "+--------+---------------------+-------------+\n",
      "|   1    |         0.0         |     0.0     |\n",
      "|   2    |         0.25        |     0.5     |\n",
      "|   3    |  0.3333333333333333 |     0.75    |\n",
      "|   4    |        0.375        |     1.0     |\n",
      "|   5    | 0.30000000000000004 |     1.0     |\n",
      "|   6    | 0.26666666666666666 |     1.0     |\n",
      "|   7    | 0.24285714285714285 |     1.0     |\n",
      "|   8    |        0.225        |     1.0     |\n",
      "|   9    |        0.225        |     1.0     |\n",
      "|   10   |        0.225        |     1.0     |\n",
      "+--------+---------------------+-------------+\n",
      "[10 rows x 3 columns]\n",
      "\n",
      "\n",
      "Overall RMSE: 0.9477067838462212\n",
      "\n",
      "Per User RMSE (best)\n",
      "+------------+--------------------+-------+\n",
      "| customerId |        rmse        | count |\n",
      "+------------+--------------------+-------+\n",
      "|     1      | 0.8333333333333334 |   1   |\n",
      "+------------+--------------------+-------+\n",
      "[1 rows x 3 columns]\n",
      "\n",
      "\n",
      "Per User RMSE (worst)\n",
      "+------------+------+-------+\n",
      "| customerId | rmse | count |\n",
      "+------------+------+-------+\n",
      "|     2      | 1.0  |   2   |\n",
      "+------------+------+-------+\n",
      "[1 rows x 3 columns]\n",
      "\n",
      "\n",
      "Per Item RMSE (best)\n",
      "+-----------+--------------------+-------+\n",
      "| productId |        rmse        | count |\n",
      "+-----------+--------------------+-------+\n",
      "|     3     | 0.9204467514322718 |   2   |\n",
      "+-----------+--------------------+-------+\n",
      "[1 rows x 3 columns]\n",
      "\n",
      "\n",
      "Per Item RMSE (worst)\n",
      "+-----------+------+-------+\n",
      "| productId | rmse | count |\n",
      "+-----------+------+-------+\n",
      "|     2     | 1.0  |   1   |\n",
      "+-----------+------+-------+\n",
      "[1 rows x 3 columns]\n",
      "\n",
      "PROGRESS: Evaluate model Pearson Similarity on Purchase Dummy\n",
      "\n",
      "Precision and recall summary statistics by cutoff\n",
      "+--------+---------------------+-------------+\n",
      "| cutoff |    mean_precision   | mean_recall |\n",
      "+--------+---------------------+-------------+\n",
      "|   1    |         0.0         |     0.0     |\n",
      "|   2    |         0.25        |     0.5     |\n",
      "|   3    |  0.3333333333333333 |     0.75    |\n",
      "|   4    |        0.375        |     1.0     |\n",
      "|   5    | 0.30000000000000004 |     1.0     |\n",
      "|   6    | 0.26666666666666666 |     1.0     |\n",
      "|   7    | 0.24285714285714285 |     1.0     |\n",
      "|   8    |        0.225        |     1.0     |\n",
      "|   9    |        0.225        |     1.0     |\n",
      "|   10   |        0.225        |     1.0     |\n",
      "+--------+---------------------+-------------+\n",
      "[10 rows x 3 columns]\n",
      "\n",
      "\n",
      "Overall RMSE: 1.0\n",
      "\n",
      "Per User RMSE (best)\n",
      "+------------+------+-------+\n",
      "| customerId | rmse | count |\n",
      "+------------+------+-------+\n",
      "|     2      | 1.0  |   2   |\n",
      "+------------+------+-------+\n",
      "[1 rows x 3 columns]\n",
      "\n",
      "\n",
      "Per User RMSE (worst)\n",
      "+------------+------+-------+\n",
      "| customerId | rmse | count |\n",
      "+------------+------+-------+\n",
      "|     1      | 1.0  |   1   |\n",
      "+------------+------+-------+\n",
      "[1 rows x 3 columns]\n",
      "\n",
      "\n",
      "Per Item RMSE (best)\n",
      "+-----------+------+-------+\n",
      "| productId | rmse | count |\n",
      "+-----------+------+-------+\n",
      "|     2     | 1.0  |   1   |\n",
      "+-----------+------+-------+\n",
      "[1 rows x 3 columns]\n",
      "\n",
      "\n",
      "Per Item RMSE (worst)\n",
      "+-----------+------+-------+\n",
      "| productId | rmse | count |\n",
      "+-----------+------+-------+\n",
      "|     3     | 1.0  |   2   |\n",
      "+-----------+------+-------+\n",
      "[1 rows x 3 columns]\n",
      "\n"
     ]
    }
   ],
   "source": [
    "eval_dummy = tc.recommender.util.compare_models(test_data_dummy, models_w_dummy, model_names=names_w_dummy)"
   ]
  },
  {
   "cell_type": "code",
   "execution_count": 136,
   "metadata": {},
   "outputs": [
    {
     "name": "stdout",
     "output_type": "stream",
     "text": [
      "PROGRESS: Evaluate model Popularity Model on Scaled Purchase Counts\n",
      "\n",
      "Precision and recall summary statistics by cutoff\n",
      "+--------+---------------------+--------------------+\n",
      "| cutoff |    mean_precision   |    mean_recall     |\n",
      "+--------+---------------------+--------------------+\n",
      "|   1    |  0.6666666666666667 | 0.6666666666666667 |\n",
      "|   2    | 0.33333333333333337 | 0.6666666666666667 |\n",
      "|   3    |  0.2222222222222222 | 0.6666666666666667 |\n",
      "|   4    | 0.16666666666666669 | 0.6666666666666667 |\n",
      "|   5    |         0.15        | 0.6666666666666666 |\n",
      "|   6    |         0.15        | 0.6666666666666666 |\n",
      "|   7    |         0.15        | 0.6666666666666666 |\n",
      "|   8    |         0.15        | 0.6666666666666666 |\n",
      "|   9    |         0.15        | 0.6666666666666666 |\n",
      "|   10   |         0.15        | 0.6666666666666666 |\n",
      "+--------+---------------------+--------------------+\n",
      "[10 rows x 3 columns]\n",
      "\n",
      "\n",
      "Overall RMSE: 0.4116084153698826\n",
      "\n",
      "Per User RMSE (best)\n",
      "+------------+---------------------+-------+\n",
      "| customerId |         rmse        | count |\n",
      "+------------+---------------------+-------+\n",
      "|     1      | 0.09090909090909083 |   1   |\n",
      "+------------+---------------------+-------+\n",
      "[1 rows x 3 columns]\n",
      "\n",
      "\n",
      "Per User RMSE (worst)\n",
      "+------------+------+-------+\n",
      "| customerId | rmse | count |\n",
      "+------------+------+-------+\n",
      "|     0      | 0.5  |   1   |\n",
      "+------------+------+-------+\n",
      "[1 rows x 3 columns]\n",
      "\n",
      "\n",
      "Per Item RMSE (best)\n",
      "+-----------+---------------------+-------+\n",
      "| productId |         rmse        | count |\n",
      "+-----------+---------------------+-------+\n",
      "|     5     | 0.09090909090909083 |   1   |\n",
      "+-----------+---------------------+-------+\n",
      "[1 rows x 3 columns]\n",
      "\n",
      "\n",
      "Per Item RMSE (worst)\n",
      "+-----------+------+-------+\n",
      "| productId | rmse | count |\n",
      "+-----------+------+-------+\n",
      "|     3     | 0.5  |   2   |\n",
      "+-----------+------+-------+\n",
      "[1 rows x 3 columns]\n",
      "\n",
      "PROGRESS: Evaluate model Cosine Similarity on Scaled Purchase Counts\n",
      "\n",
      "Precision and recall summary statistics by cutoff\n",
      "+--------+---------------------+--------------------+\n",
      "| cutoff |    mean_precision   |    mean_recall     |\n",
      "+--------+---------------------+--------------------+\n",
      "|   1    |  0.6666666666666666 | 0.6666666666666666 |\n",
      "|   2    |  0.3333333333333333 | 0.6666666666666666 |\n",
      "|   3    |  0.2222222222222222 | 0.6666666666666667 |\n",
      "|   4    | 0.16666666666666669 | 0.6666666666666667 |\n",
      "|   5    |         0.15        | 0.6666666666666666 |\n",
      "|   6    |         0.15        | 0.6666666666666666 |\n",
      "|   7    |         0.15        | 0.6666666666666666 |\n",
      "|   8    |         0.15        | 0.6666666666666666 |\n",
      "|   9    |         0.15        | 0.6666666666666666 |\n",
      "|   10   |         0.15        | 0.6666666666666666 |\n",
      "+--------+---------------------+--------------------+\n",
      "[10 rows x 3 columns]\n",
      "\n",
      "\n",
      "Overall RMSE: 0.8217978689807466\n",
      "\n",
      "Per User RMSE (best)\n",
      "+------------+--------------------+-------+\n",
      "| customerId |        rmse        | count |\n",
      "+------------+--------------------+-------+\n",
      "|     0      | 0.5836872160434723 |   1   |\n",
      "+------------+--------------------+-------+\n",
      "[1 rows x 3 columns]\n",
      "\n",
      "\n",
      "Per User RMSE (worst)\n",
      "+------------+------+-------+\n",
      "| customerId | rmse | count |\n",
      "+------------+------+-------+\n",
      "|     1      | 1.0  |   1   |\n",
      "+------------+------+-------+\n",
      "[1 rows x 3 columns]\n",
      "\n",
      "\n",
      "Per Item RMSE (best)\n",
      "+-----------+--------------------+-------+\n",
      "| productId |        rmse        | count |\n",
      "+-----------+--------------------+-------+\n",
      "|     3     | 0.7162594545218545 |   2   |\n",
      "+-----------+--------------------+-------+\n",
      "[1 rows x 3 columns]\n",
      "\n",
      "\n",
      "Per Item RMSE (worst)\n",
      "+-----------+------+-------+\n",
      "| productId | rmse | count |\n",
      "+-----------+------+-------+\n",
      "|     5     | 1.0  |   1   |\n",
      "+-----------+------+-------+\n",
      "[1 rows x 3 columns]\n",
      "\n",
      "PROGRESS: Evaluate model Pearson Similarity on Scaled Purchase Counts\n",
      "\n",
      "Precision and recall summary statistics by cutoff\n",
      "+--------+---------------------+--------------------+\n",
      "| cutoff |    mean_precision   |    mean_recall     |\n",
      "+--------+---------------------+--------------------+\n",
      "|   1    |  0.6666666666666667 | 0.6666666666666667 |\n",
      "|   2    | 0.33333333333333337 | 0.6666666666666667 |\n",
      "|   3    |  0.2222222222222222 | 0.6666666666666667 |\n",
      "|   4    | 0.16666666666666669 | 0.6666666666666667 |\n",
      "|   5    |         0.15        | 0.6666666666666666 |\n",
      "|   6    |         0.15        | 0.6666666666666666 |\n",
      "|   7    |         0.15        | 0.6666666666666666 |\n",
      "|   8    |         0.15        | 0.6666666666666666 |\n",
      "|   9    |         0.15        | 0.6666666666666666 |\n",
      "|   10   |         0.15        | 0.6666666666666666 |\n",
      "+--------+---------------------+--------------------+\n",
      "[10 rows x 3 columns]\n",
      "\n",
      "\n",
      "Overall RMSE: 0.7071067811865476\n",
      "\n",
      "Per User RMSE (best)\n",
      "+------------+------+-------+\n",
      "| customerId | rmse | count |\n",
      "+------------+------+-------+\n",
      "|     3      | 0.5  |   1   |\n",
      "+------------+------+-------+\n",
      "[1 rows x 3 columns]\n",
      "\n",
      "\n",
      "Per User RMSE (worst)\n",
      "+------------+------+-------+\n",
      "| customerId | rmse | count |\n",
      "+------------+------+-------+\n",
      "|     1      | 1.0  |   1   |\n",
      "+------------+------+-------+\n",
      "[1 rows x 3 columns]\n",
      "\n",
      "\n",
      "Per Item RMSE (best)\n",
      "+-----------+------+-------+\n",
      "| productId | rmse | count |\n",
      "+-----------+------+-------+\n",
      "|     3     | 0.5  |   2   |\n",
      "+-----------+------+-------+\n",
      "[1 rows x 3 columns]\n",
      "\n",
      "\n",
      "Per Item RMSE (worst)\n",
      "+-----------+------+-------+\n",
      "| productId | rmse | count |\n",
      "+-----------+------+-------+\n",
      "|     5     | 1.0  |   1   |\n",
      "+-----------+------+-------+\n",
      "[1 rows x 3 columns]\n",
      "\n"
     ]
    }
   ],
   "source": [
    "eval_norm = tc.recommender.util.compare_models(test_data_norm, models_w_norm, model_names=names_w_norm)"
   ]
  },
  {
   "cell_type": "code",
   "execution_count": 137,
   "metadata": {},
   "outputs": [
    {
     "data": {
      "text/html": [
       "<pre>Preparing data set.</pre>"
      ],
      "text/plain": [
       "Preparing data set."
      ]
     },
     "metadata": {},
     "output_type": "display_data"
    },
    {
     "data": {
      "text/html": [
       "<pre>    Data has 14 observations with 5 users and 8 items.</pre>"
      ],
      "text/plain": [
       "    Data has 14 observations with 5 users and 8 items."
      ]
     },
     "metadata": {},
     "output_type": "display_data"
    },
    {
     "data": {
      "text/html": [
       "<pre>    Data prepared in: 0.0077s</pre>"
      ],
      "text/plain": [
       "    Data prepared in: 0.0077s"
      ]
     },
     "metadata": {},
     "output_type": "display_data"
    },
    {
     "data": {
      "text/html": [
       "<pre>Training model from provided data.</pre>"
      ],
      "text/plain": [
       "Training model from provided data."
      ]
     },
     "metadata": {},
     "output_type": "display_data"
    },
    {
     "data": {
      "text/html": [
       "<pre>Gathering per-item and per-user statistics.</pre>"
      ],
      "text/plain": [
       "Gathering per-item and per-user statistics."
      ]
     },
     "metadata": {},
     "output_type": "display_data"
    },
    {
     "data": {
      "text/html": [
       "<pre>+--------------------------------+------------+</pre>"
      ],
      "text/plain": [
       "+--------------------------------+------------+"
      ]
     },
     "metadata": {},
     "output_type": "display_data"
    },
    {
     "data": {
      "text/html": [
       "<pre>| Elapsed Time (Item Statistics) | % Complete |</pre>"
      ],
      "text/plain": [
       "| Elapsed Time (Item Statistics) | % Complete |"
      ]
     },
     "metadata": {},
     "output_type": "display_data"
    },
    {
     "data": {
      "text/html": [
       "<pre>+--------------------------------+------------+</pre>"
      ],
      "text/plain": [
       "+--------------------------------+------------+"
      ]
     },
     "metadata": {},
     "output_type": "display_data"
    }
   ],
   "source": [
    "final_model = tc.item_similarity_recommender.create(tc.SFrame(data_norm),user_id=user_id, item_id=item_id,target='scaled_purchase_freq', similarity_type='cosine')"
   ]
  },
  {
   "cell_type": "code",
   "execution_count": 138,
   "metadata": {},
   "outputs": [
    {
     "data": {
      "text/html": [
       "<pre>| 1.387ms                        | 100        |</pre>"
      ],
      "text/plain": [
       "| 1.387ms                        | 100        |"
      ]
     },
     "metadata": {},
     "output_type": "display_data"
    },
    {
     "data": {
      "text/html": [
       "<pre>+--------------------------------+------------+</pre>"
      ],
      "text/plain": [
       "+--------------------------------+------------+"
      ]
     },
     "metadata": {},
     "output_type": "display_data"
    },
    {
     "data": {
      "text/html": [
       "<pre>Setting up lookup tables.</pre>"
      ],
      "text/plain": [
       "Setting up lookup tables."
      ]
     },
     "metadata": {},
     "output_type": "display_data"
    },
    {
     "data": {
      "text/html": [
       "<pre>Processing data in one pass using dense lookup tables.</pre>"
      ],
      "text/plain": [
       "Processing data in one pass using dense lookup tables."
      ]
     },
     "metadata": {},
     "output_type": "display_data"
    },
    {
     "data": {
      "text/html": [
       "<pre>+-------------------------------------+------------------+-----------------+</pre>"
      ],
      "text/plain": [
       "+-------------------------------------+------------------+-----------------+"
      ]
     },
     "metadata": {},
     "output_type": "display_data"
    },
    {
     "data": {
      "text/html": [
       "<pre>| Elapsed Time (Constructing Lookups) | Total % Complete | Items Processed |</pre>"
      ],
      "text/plain": [
       "| Elapsed Time (Constructing Lookups) | Total % Complete | Items Processed |"
      ]
     },
     "metadata": {},
     "output_type": "display_data"
    },
    {
     "data": {
      "text/html": [
       "<pre>+-------------------------------------+------------------+-----------------+</pre>"
      ],
      "text/plain": [
       "+-------------------------------------+------------------+-----------------+"
      ]
     },
     "metadata": {},
     "output_type": "display_data"
    },
    {
     "data": {
      "text/html": [
       "<pre>| 2.075ms                             | 34.25            | 2               |</pre>"
      ],
      "text/plain": [
       "| 2.075ms                             | 34.25            | 2               |"
      ]
     },
     "metadata": {},
     "output_type": "display_data"
    },
    {
     "data": {
      "text/html": [
       "<pre>| 12.431ms                            | 100              | 8               |</pre>"
      ],
      "text/plain": [
       "| 12.431ms                            | 100              | 8               |"
      ]
     },
     "metadata": {},
     "output_type": "display_data"
    },
    {
     "data": {
      "text/html": [
       "<pre>+-------------------------------------+------------------+-----------------+</pre>"
      ],
      "text/plain": [
       "+-------------------------------------+------------------+-----------------+"
      ]
     },
     "metadata": {},
     "output_type": "display_data"
    },
    {
     "data": {
      "text/html": [
       "<pre>Finalizing lookup tables.</pre>"
      ],
      "text/plain": [
       "Finalizing lookup tables."
      ]
     },
     "metadata": {},
     "output_type": "display_data"
    },
    {
     "data": {
      "text/html": [
       "<pre>Generating candidate set for working with new users.</pre>"
      ],
      "text/plain": [
       "Generating candidate set for working with new users."
      ]
     },
     "metadata": {},
     "output_type": "display_data"
    },
    {
     "data": {
      "text/html": [
       "<pre>Finished training in 0.022586s</pre>"
      ],
      "text/plain": [
       "Finished training in 0.022586s"
      ]
     },
     "metadata": {},
     "output_type": "display_data"
    },
    {
     "name": "stdout",
     "output_type": "stream",
     "text": [
      "+------------+-----------+----------------------+------+\n",
      "| customerId | productId |        score         | rank |\n",
      "+------------+-----------+----------------------+------+\n",
      "|     0      |     1     | 0.36169042189915973  |  1   |\n",
      "|     0      |     5     | 0.36169042189915973  |  2   |\n",
      "|     0      |     6     | 0.31843825181325275  |  3   |\n",
      "|     0      |     8     | 0.31843825181325275  |  4   |\n",
      "|     0      |     7     |         0.0          |  5   |\n",
      "|     1      |     2     | 0.32027997076511383  |  1   |\n",
      "|     1      |     6     | 0.09449112415313721  |  2   |\n",
      "|     1      |     8     | 0.09449112415313721  |  3   |\n",
      "|     1      |     7     |         0.0          |  4   |\n",
      "|     2      |     4     |  0.7386466264724731  |  1   |\n",
      "|     2      |     6     |  0.6666396260261536  |  2   |\n",
      "|     2      |     8     |  0.6666396260261536  |  3   |\n",
      "|     2      |     1     | 0.37796449661254883  |  4   |\n",
      "|     2      |     5     | 0.37796449661254883  |  5   |\n",
      "|     2      |     7     |         0.0          |  6   |\n",
      "|     3      |     4     | 0.23569269478321075  |  1   |\n",
      "|     3      |     1     | 0.09449112415313721  |  2   |\n",
      "|     3      |     5     | 0.09449112415313721  |  3   |\n",
      "|     3      |     7     |         0.0          |  4   |\n",
      "|     4      |     2     | 0.027277231216430664 |  1   |\n",
      "|     4      |     4     | 0.01670382171869278  |  2   |\n",
      "|     4      |     1     | 0.011811390519142151 |  3   |\n",
      "|     4      |     5     | 0.011811390519142151 |  4   |\n",
      "|     4      |     6     | 0.011811390519142151 |  5   |\n",
      "|     4      |     8     | 0.011811390519142151 |  6   |\n",
      "|     4      |     3     |         0.0          |  7   |\n",
      "+------------+-----------+----------------------+------+\n",
      "[26 rows x 4 columns]\n",
      "\n"
     ]
    }
   ],
   "source": [
    "recom = final_model.recommend(users=users_to_recommend, k=n_rec)\n",
    "recom.print_rows(n_display)"
   ]
  },
  {
   "cell_type": "code",
   "execution_count": 139,
   "metadata": {},
   "outputs": [
    {
     "name": "stdout",
     "output_type": "stream",
     "text": [
      "{'customerId': 0, 'productId': 1, 'score': 0.36169042189915973, 'rank': 1}\n",
      "{'customerId': 0, 'productId': 5, 'score': 0.36169042189915973, 'rank': 2}\n",
      "{'customerId': 0, 'productId': 6, 'score': 0.31843825181325275, 'rank': 3}\n",
      "{'customerId': 0, 'productId': 8, 'score': 0.31843825181325275, 'rank': 4}\n",
      "{'customerId': 0, 'productId': 7, 'score': 0.0, 'rank': 5}\n",
      "{'customerId': 1, 'productId': 2, 'score': 0.32027997076511383, 'rank': 1}\n",
      "{'customerId': 1, 'productId': 6, 'score': 0.09449112415313721, 'rank': 2}\n",
      "{'customerId': 1, 'productId': 8, 'score': 0.09449112415313721, 'rank': 3}\n",
      "{'customerId': 1, 'productId': 7, 'score': 0.0, 'rank': 4}\n",
      "{'customerId': 2, 'productId': 4, 'score': 0.7386466264724731, 'rank': 1}\n",
      "{'customerId': 2, 'productId': 6, 'score': 0.6666396260261536, 'rank': 2}\n",
      "{'customerId': 2, 'productId': 8, 'score': 0.6666396260261536, 'rank': 3}\n",
      "{'customerId': 2, 'productId': 1, 'score': 0.37796449661254883, 'rank': 4}\n",
      "{'customerId': 2, 'productId': 5, 'score': 0.37796449661254883, 'rank': 5}\n",
      "{'customerId': 2, 'productId': 7, 'score': 0.0, 'rank': 6}\n",
      "{'customerId': 3, 'productId': 4, 'score': 0.23569269478321075, 'rank': 1}\n",
      "{'customerId': 3, 'productId': 1, 'score': 0.09449112415313721, 'rank': 2}\n",
      "{'customerId': 3, 'productId': 5, 'score': 0.09449112415313721, 'rank': 3}\n",
      "{'customerId': 3, 'productId': 7, 'score': 0.0, 'rank': 4}\n",
      "{'customerId': 4, 'productId': 2, 'score': 0.027277231216430664, 'rank': 1}\n",
      "{'customerId': 4, 'productId': 4, 'score': 0.01670382171869278, 'rank': 2}\n",
      "{'customerId': 4, 'productId': 1, 'score': 0.011811390519142151, 'rank': 3}\n",
      "{'customerId': 4, 'productId': 5, 'score': 0.011811390519142151, 'rank': 4}\n",
      "{'customerId': 4, 'productId': 6, 'score': 0.011811390519142151, 'rank': 5}\n",
      "{'customerId': 4, 'productId': 8, 'score': 0.011811390519142151, 'rank': 6}\n",
      "{'customerId': 4, 'productId': 3, 'score': 0.0, 'rank': 7}\n"
     ]
    }
   ],
   "source": [
    "for i in recom:\n",
    "    print(i)\n",
    "    "
   ]
  },
  {
   "cell_type": "code",
   "execution_count": 141,
   "metadata": {},
   "outputs": [],
   "source": [
    "json_output=[]\n",
    "for i in recom:\n",
    "    json_output.append(i)"
   ]
  },
  {
   "cell_type": "code",
   "execution_count": 142,
   "metadata": {},
   "outputs": [
    {
     "data": {
      "text/plain": [
       "[{'customerId': 0, 'productId': 1, 'score': 0.36169042189915973, 'rank': 1},\n",
       " {'customerId': 0, 'productId': 5, 'score': 0.36169042189915973, 'rank': 2},\n",
       " {'customerId': 0, 'productId': 6, 'score': 0.31843825181325275, 'rank': 3},\n",
       " {'customerId': 0, 'productId': 8, 'score': 0.31843825181325275, 'rank': 4},\n",
       " {'customerId': 0, 'productId': 7, 'score': 0.0, 'rank': 5},\n",
       " {'customerId': 1, 'productId': 2, 'score': 0.32027997076511383, 'rank': 1},\n",
       " {'customerId': 1, 'productId': 6, 'score': 0.09449112415313721, 'rank': 2},\n",
       " {'customerId': 1, 'productId': 8, 'score': 0.09449112415313721, 'rank': 3},\n",
       " {'customerId': 1, 'productId': 7, 'score': 0.0, 'rank': 4},\n",
       " {'customerId': 2, 'productId': 4, 'score': 0.7386466264724731, 'rank': 1},\n",
       " {'customerId': 2, 'productId': 6, 'score': 0.6666396260261536, 'rank': 2},\n",
       " {'customerId': 2, 'productId': 8, 'score': 0.6666396260261536, 'rank': 3},\n",
       " {'customerId': 2, 'productId': 1, 'score': 0.37796449661254883, 'rank': 4},\n",
       " {'customerId': 2, 'productId': 5, 'score': 0.37796449661254883, 'rank': 5},\n",
       " {'customerId': 2, 'productId': 7, 'score': 0.0, 'rank': 6},\n",
       " {'customerId': 3, 'productId': 4, 'score': 0.23569269478321075, 'rank': 1},\n",
       " {'customerId': 3, 'productId': 1, 'score': 0.09449112415313721, 'rank': 2},\n",
       " {'customerId': 3, 'productId': 5, 'score': 0.09449112415313721, 'rank': 3},\n",
       " {'customerId': 3, 'productId': 7, 'score': 0.0, 'rank': 4},\n",
       " {'customerId': 4, 'productId': 2, 'score': 0.027277231216430664, 'rank': 1},\n",
       " {'customerId': 4, 'productId': 4, 'score': 0.01670382171869278, 'rank': 2},\n",
       " {'customerId': 4, 'productId': 1, 'score': 0.011811390519142151, 'rank': 3},\n",
       " {'customerId': 4, 'productId': 5, 'score': 0.011811390519142151, 'rank': 4},\n",
       " {'customerId': 4, 'productId': 6, 'score': 0.011811390519142151, 'rank': 5},\n",
       " {'customerId': 4, 'productId': 8, 'score': 0.011811390519142151, 'rank': 6},\n",
       " {'customerId': 4, 'productId': 3, 'score': 0.0, 'rank': 7}]"
      ]
     },
     "execution_count": 142,
     "metadata": {},
     "output_type": "execute_result"
    }
   ],
   "source": [
    "json_output"
   ]
  },
  {
   "cell_type": "code",
   "execution_count": 149,
   "metadata": {},
   "outputs": [],
   "source": [
    "final_output=json.dumps(json_output)"
   ]
  },
  {
   "cell_type": "code",
   "execution_count": 150,
   "metadata": {},
   "outputs": [
    {
     "data": {
      "text/plain": [
       "'[{\"customerId\": 0, \"productId\": 1, \"score\": 0.36169042189915973, \"rank\": 1}, {\"customerId\": 0, \"productId\": 5, \"score\": 0.36169042189915973, \"rank\": 2}, {\"customerId\": 0, \"productId\": 6, \"score\": 0.31843825181325275, \"rank\": 3}, {\"customerId\": 0, \"productId\": 8, \"score\": 0.31843825181325275, \"rank\": 4}, {\"customerId\": 0, \"productId\": 7, \"score\": 0.0, \"rank\": 5}, {\"customerId\": 1, \"productId\": 2, \"score\": 0.32027997076511383, \"rank\": 1}, {\"customerId\": 1, \"productId\": 6, \"score\": 0.09449112415313721, \"rank\": 2}, {\"customerId\": 1, \"productId\": 8, \"score\": 0.09449112415313721, \"rank\": 3}, {\"customerId\": 1, \"productId\": 7, \"score\": 0.0, \"rank\": 4}, {\"customerId\": 2, \"productId\": 4, \"score\": 0.7386466264724731, \"rank\": 1}, {\"customerId\": 2, \"productId\": 6, \"score\": 0.6666396260261536, \"rank\": 2}, {\"customerId\": 2, \"productId\": 8, \"score\": 0.6666396260261536, \"rank\": 3}, {\"customerId\": 2, \"productId\": 1, \"score\": 0.37796449661254883, \"rank\": 4}, {\"customerId\": 2, \"productId\": 5, \"score\": 0.37796449661254883, \"rank\": 5}, {\"customerId\": 2, \"productId\": 7, \"score\": 0.0, \"rank\": 6}, {\"customerId\": 3, \"productId\": 4, \"score\": 0.23569269478321075, \"rank\": 1}, {\"customerId\": 3, \"productId\": 1, \"score\": 0.09449112415313721, \"rank\": 2}, {\"customerId\": 3, \"productId\": 5, \"score\": 0.09449112415313721, \"rank\": 3}, {\"customerId\": 3, \"productId\": 7, \"score\": 0.0, \"rank\": 4}, {\"customerId\": 4, \"productId\": 2, \"score\": 0.027277231216430664, \"rank\": 1}, {\"customerId\": 4, \"productId\": 4, \"score\": 0.01670382171869278, \"rank\": 2}, {\"customerId\": 4, \"productId\": 1, \"score\": 0.011811390519142151, \"rank\": 3}, {\"customerId\": 4, \"productId\": 5, \"score\": 0.011811390519142151, \"rank\": 4}, {\"customerId\": 4, \"productId\": 6, \"score\": 0.011811390519142151, \"rank\": 5}, {\"customerId\": 4, \"productId\": 8, \"score\": 0.011811390519142151, \"rank\": 6}, {\"customerId\": 4, \"productId\": 3, \"score\": 0.0, \"rank\": 7}]'"
      ]
     },
     "execution_count": 150,
     "metadata": {},
     "output_type": "execute_result"
    }
   ],
   "source": [
    "final_output"
   ]
  },
  {
   "cell_type": "code",
   "execution_count": null,
   "metadata": {},
   "outputs": [],
   "source": []
  }
 ],
 "metadata": {
  "kernelspec": {
   "display_name": "Python 3",
   "language": "python",
   "name": "python3"
  },
  "language_info": {
   "codemirror_mode": {
    "name": "ipython",
    "version": 3
   },
   "file_extension": ".py",
   "mimetype": "text/x-python",
   "name": "python",
   "nbconvert_exporter": "python",
   "pygments_lexer": "ipython3",
   "version": "3.6.8"
  }
 },
 "nbformat": 4,
 "nbformat_minor": 2
}
